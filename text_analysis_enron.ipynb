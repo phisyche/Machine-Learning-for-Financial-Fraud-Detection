{
 "cells": [
  {
   "cell_type": "code",
   "execution_count": 2,
   "metadata": {},
   "outputs": [],
   "source": [
    "import pandas as pd\n",
    "import matplotlib.pyplot as plt\n",
    "from matplotlib.patches import Rectangle\n",
    "import numpy as np\n",
    "from pprint import pprint as pp\n",
    "import csv\n",
    "from pathlib import Path\n",
    "import seaborn as sns\n",
    "from itertools import product\n",
    "import string\n",
    "\n",
    "import nltk\n",
    "from nltk.corpus import stopwords\n",
    "from nltk.stem.wordnet import WordNetLemmatizer\n",
    "\n",
    "from imblearn.over_sampling import SMOTE\n",
    "from imblearn.over_sampling import BorderlineSMOTE\n",
    "from imblearn.pipeline import Pipeline \n",
    "\n",
    "from sklearn.linear_model import LinearRegression, LogisticRegression\n",
    "from sklearn.model_selection import train_test_split, GridSearchCV\n",
    "from sklearn.tree import DecisionTreeClassifier\n",
    "from sklearn.metrics import r2_score, classification_report, confusion_matrix, accuracy_score, roc_auc_score, roc_curve, precision_recall_curve, average_precision_score\n",
    "from sklearn.metrics import homogeneity_score, silhouette_score\n",
    "from sklearn.ensemble import RandomForestClassifier, VotingClassifier\n",
    "from sklearn.preprocessing import MinMaxScaler\n",
    "from sklearn.cluster import MiniBatchKMeans, DBSCAN\n",
    "\n",
    "import gensim\n",
    "from gensim import corpora"
   ]
  },
  {
   "cell_type": "code",
   "execution_count": 3,
   "metadata": {},
   "outputs": [],
   "source": [
    "df = pd.read_csv('data/enron_emails_clean.csv')"
   ]
  },
  {
   "cell_type": "code",
   "execution_count": 5,
   "metadata": {},
   "outputs": [],
   "source": [
    "mask = df['clean_content'].str.contains('sell enron stock', na=False)"
   ]
  },
  {
   "cell_type": "code",
   "execution_count": 6,
   "metadata": {},
   "outputs": [
    {
     "data": {
      "text/html": [
       "<div>\n",
       "<style scoped>\n",
       "    .dataframe tbody tr th:only-of-type {\n",
       "        vertical-align: middle;\n",
       "    }\n",
       "\n",
       "    .dataframe tbody tr th {\n",
       "        vertical-align: top;\n",
       "    }\n",
       "\n",
       "    .dataframe thead th {\n",
       "        text-align: right;\n",
       "    }\n",
       "</style>\n",
       "<table border=\"1\" class=\"dataframe\">\n",
       "  <thead>\n",
       "    <tr style=\"text-align: right;\">\n",
       "      <th></th>\n",
       "      <th>Message-ID</th>\n",
       "      <th>From</th>\n",
       "      <th>To</th>\n",
       "      <th>Date</th>\n",
       "      <th>content</th>\n",
       "      <th>clean_content</th>\n",
       "    </tr>\n",
       "  </thead>\n",
       "  <tbody>\n",
       "    <tr>\n",
       "      <th>154</th>\n",
       "      <td>&lt;6336501.1075841154311.JavaMail.evans@thyme&gt;</td>\n",
       "      <td>('sarah.palmer@enron.com')</td>\n",
       "      <td>('sarah.palmer@enron.com')</td>\n",
       "      <td>2002-02-01 14:53:35</td>\n",
       "      <td>\\nJoint Venture: A 1997 Enron Meeting Belies O...</td>\n",
       "      <td>joint venture enron meeting belies officers cl...</td>\n",
       "    </tr>\n",
       "  </tbody>\n",
       "</table>\n",
       "</div>"
      ],
      "text/plain": [
       "                                       Message-ID                        From  \\\n",
       "154  <6336501.1075841154311.JavaMail.evans@thyme>  ('sarah.palmer@enron.com')   \n",
       "\n",
       "                             To                 Date  \\\n",
       "154  ('sarah.palmer@enron.com')  2002-02-01 14:53:35   \n",
       "\n",
       "                                               content  \\\n",
       "154  \\nJoint Venture: A 1997 Enron Meeting Belies O...   \n",
       "\n",
       "                                         clean_content  \n",
       "154  joint venture enron meeting belies officers cl...  "
      ]
     },
     "execution_count": 6,
     "metadata": {},
     "output_type": "execute_result"
    }
   ],
   "source": [
    "# Select the data from df using the mask\n",
    "df[mask]"
   ]
  },
  {
   "cell_type": "code",
   "execution_count": 7,
   "metadata": {},
   "outputs": [
    {
     "data": {
      "text/html": [
       "<div>\n",
       "<style scoped>\n",
       "    .dataframe tbody tr th:only-of-type {\n",
       "        vertical-align: middle;\n",
       "    }\n",
       "\n",
       "    .dataframe tbody tr th {\n",
       "        vertical-align: top;\n",
       "    }\n",
       "\n",
       "    .dataframe thead th {\n",
       "        text-align: right;\n",
       "    }\n",
       "</style>\n",
       "<table border=\"1\" class=\"dataframe\">\n",
       "  <thead>\n",
       "    <tr style=\"text-align: right;\">\n",
       "      <th></th>\n",
       "      <th>Message-ID</th>\n",
       "      <th>From</th>\n",
       "      <th>To</th>\n",
       "      <th>Date</th>\n",
       "      <th>content</th>\n",
       "      <th>clean_content</th>\n",
       "    </tr>\n",
       "  </thead>\n",
       "  <tbody>\n",
       "    <tr>\n",
       "      <th>0</th>\n",
       "      <td>&lt;8345058.1075840404046.JavaMail.evans@thyme&gt;</td>\n",
       "      <td>('advdfeedback@investools.com')</td>\n",
       "      <td>('advdfeedback@investools.com')</td>\n",
       "      <td>2002-01-29 23:20:55</td>\n",
       "      <td>INVESTools Advisory\\nA Free Digest of Trusted ...</td>\n",
       "      <td>investools advisory free digest trusted invest...</td>\n",
       "    </tr>\n",
       "    <tr>\n",
       "      <th>1</th>\n",
       "      <td>&lt;1512159.1075863666797.JavaMail.evans@thyme&gt;</td>\n",
       "      <td>('richard.sanders@enron.com')</td>\n",
       "      <td>('richard.sanders@enron.com')</td>\n",
       "      <td>2000-09-20 19:07:00</td>\n",
       "      <td>----- Forwarded by Richard B Sanders/HOU/ECT o...</td>\n",
       "      <td>forwarded richard b sanders hou ect pm justin ...</td>\n",
       "    </tr>\n",
       "    <tr>\n",
       "      <th>2</th>\n",
       "      <td>&lt;26118676.1075862176383.JavaMail.evans@thyme&gt;</td>\n",
       "      <td>('m..love@enron.com')</td>\n",
       "      <td>('m..love@enron.com')</td>\n",
       "      <td>2001-10-30 16:15:17</td>\n",
       "      <td>hey you are not wearing your target purple shi...</td>\n",
       "      <td>hey wearing target purple shirt today mine wan...</td>\n",
       "    </tr>\n",
       "    <tr>\n",
       "      <th>3</th>\n",
       "      <td>&lt;10369289.1075860831062.JavaMail.evans@thyme&gt;</td>\n",
       "      <td>('leslie.milosevich@kp.org')</td>\n",
       "      <td>('leslie.milosevich@kp.org')</td>\n",
       "      <td>2002-01-30 17:54:18</td>\n",
       "      <td>Leslie Milosevich\\n1042 Santa Clara Avenue\\nAl...</td>\n",
       "      <td>leslie milosevich santa clara avenue alameda c...</td>\n",
       "    </tr>\n",
       "    <tr>\n",
       "      <th>4</th>\n",
       "      <td>&lt;26728895.1075860815046.JavaMail.evans@thyme&gt;</td>\n",
       "      <td>('rtwait@graphicaljazz.com')</td>\n",
       "      <td>('rtwait@graphicaljazz.com')</td>\n",
       "      <td>2002-01-30 19:36:01</td>\n",
       "      <td>Rini Twait\\n1010 E 5th Ave\\nLongmont, CO 80501...</td>\n",
       "      <td>rini twait e th ave longmont co rtwait graphic...</td>\n",
       "    </tr>\n",
       "  </tbody>\n",
       "</table>\n",
       "</div>"
      ],
      "text/plain": [
       "                                      Message-ID  \\\n",
       "0   <8345058.1075840404046.JavaMail.evans@thyme>   \n",
       "1   <1512159.1075863666797.JavaMail.evans@thyme>   \n",
       "2  <26118676.1075862176383.JavaMail.evans@thyme>   \n",
       "3  <10369289.1075860831062.JavaMail.evans@thyme>   \n",
       "4  <26728895.1075860815046.JavaMail.evans@thyme>   \n",
       "\n",
       "                              From                               To  \\\n",
       "0  ('advdfeedback@investools.com')  ('advdfeedback@investools.com')   \n",
       "1    ('richard.sanders@enron.com')    ('richard.sanders@enron.com')   \n",
       "2            ('m..love@enron.com')            ('m..love@enron.com')   \n",
       "3     ('leslie.milosevich@kp.org')     ('leslie.milosevich@kp.org')   \n",
       "4     ('rtwait@graphicaljazz.com')     ('rtwait@graphicaljazz.com')   \n",
       "\n",
       "                  Date                                            content  \\\n",
       "0  2002-01-29 23:20:55  INVESTools Advisory\\nA Free Digest of Trusted ...   \n",
       "1  2000-09-20 19:07:00  ----- Forwarded by Richard B Sanders/HOU/ECT o...   \n",
       "2  2001-10-30 16:15:17  hey you are not wearing your target purple shi...   \n",
       "3  2002-01-30 17:54:18  Leslie Milosevich\\n1042 Santa Clara Avenue\\nAl...   \n",
       "4  2002-01-30 19:36:01  Rini Twait\\n1010 E 5th Ave\\nLongmont, CO 80501...   \n",
       "\n",
       "                                       clean_content  \n",
       "0  investools advisory free digest trusted invest...  \n",
       "1  forwarded richard b sanders hou ect pm justin ...  \n",
       "2  hey wearing target purple shirt today mine wan...  \n",
       "3  leslie milosevich santa clara avenue alameda c...  \n",
       "4  rini twait e th ave longmont co rtwait graphic...  "
      ]
     },
     "execution_count": 7,
     "metadata": {},
     "output_type": "execute_result"
    }
   ],
   "source": [
    "# Create a list of terms to search for\n",
    "searchfor = ['enron stock', 'sell stock', 'stock bonus', 'sell enron stock']\n",
    "\n",
    "# Filter cleaned emails on searchfor list and select from df \n",
    "filtered_emails = df[df.clean_content.str.contains('|'.join(searchfor), na=False)]\n",
    "filtered_emails.head()"
   ]
  },
  {
   "cell_type": "code",
   "execution_count": 8,
   "metadata": {},
   "outputs": [
    {
     "name": "stdout",
     "output_type": "stream",
     "text": [
      "flag\n",
      "0    1776\n",
      "1     314\n",
      "Name: count, dtype: int64\n"
     ]
    }
   ],
   "source": [
    "# Create flag variable where the emails match the searchfor terms\n",
    "df['flag'] = np.where((df['clean_content'].str.contains('|'.join(searchfor)) == True), 1, 0)\n",
    "\n",
    "# Count the values of the flag variable\n",
    "count = df['flag'].value_counts()\n",
    "print(count)"
   ]
  },
  {
   "cell_type": "code",
   "execution_count": 9,
   "metadata": {},
   "outputs": [
    {
     "name": "stderr",
     "output_type": "stream",
     "text": [
      "[nltk_data] Error loading stopwords: <urlopen error [Errno -3]\n",
      "[nltk_data]     Temporary failure in name resolution>\n"
     ]
    }
   ],
   "source": [
    "import nltk\n",
    "nltk.download('stopwords')\n",
    "\n",
    "# Define stopwords to exclude\n",
    "stop = set(stopwords.words('english'))\n",
    "stop.update((\"to\", \"cc\", \"subject\", \"http\", \"from\", \"sent\", \"ect\", \"u\", \"fwd\", \"www\", \"com\", 'html'))\n",
    "\n",
    "# Define punctuations to exclude and lemmatizer\n",
    "exclude = set(string.punctuation)"
   ]
  },
  {
   "cell_type": "code",
   "execution_count": 10,
   "metadata": {},
   "outputs": [],
   "source": [
    "# Import the lemmatizer from nltk\n",
    "lemma = WordNetLemmatizer()\n",
    "\n",
    "def clean(text, stop):\n",
    "    text = str(text).rstrip()\n",
    "    stop_free = \" \".join([i for i in text.lower().split() if((i not in stop) and (not i.isdigit()))])\n",
    "    punc_free = ''.join(i for i in stop_free if i not in exclude)\n",
    "    normalized = \" \".join(lemma.lemmatize(i) for i in punc_free.split())      \n",
    "    return normalized"
   ]
  },
  {
   "cell_type": "code",
   "execution_count": 11,
   "metadata": {},
   "outputs": [],
   "source": [
    "# nltk.download('wordnet')\n",
    "# nltk.download('omw-1.4')\n",
    "\n",
    "# Clean the emails in df and print results\n",
    "text_clean=[]\n",
    "for text in df['clean_content']:\n",
    "    text_clean.append(clean(text, stop).split()) "
   ]
  },
  {
   "cell_type": "code",
   "execution_count": 13,
   "metadata": {},
   "outputs": [
    {
     "name": "stdout",
     "output_type": "stream",
     "text": [
      "Dictionary<33980 unique tokens: ['account', 'accurate', 'acquiring', 'acre', 'address']...>\n"
     ]
    }
   ],
   "source": [
    "# Define the dictionary\n",
    "dictionary = corpora.Dictionary(text_clean)\n",
    "\n",
    "# Define the corpus \n",
    "corpus = [dictionary.doc2bow(text) for text in text_clean]"
   ]
  },
  {
   "cell_type": "code",
   "execution_count": 11,
   "metadata": {},
   "outputs": [
    {
     "name": "stdout",
     "output_type": "stream",
     "text": [
      "Dictionary<33980 unique tokens: ['account', 'accurate', 'acquiring', 'acre', 'address']...>\n"
     ]
    }
   ],
   "source": [
    "print(dictionary)"
   ]
  },
  {
   "cell_type": "code",
   "execution_count": 12,
   "metadata": {},
   "outputs": [
    {
     "data": {
      "text/plain": [
       "[(0, 2),\n",
       " (1, 1),\n",
       " (2, 1),\n",
       " (3, 1),\n",
       " (4, 1),\n",
       " (5, 6),\n",
       " (6, 1),\n",
       " (7, 2),\n",
       " (8, 4),\n",
       " (9, 1)]"
      ]
     },
     "execution_count": 12,
     "metadata": {},
     "output_type": "execute_result"
    }
   ],
   "source": [
    "corpus[0][:10]"
   ]
  },
  {
   "cell_type": "code",
   "execution_count": 14,
   "metadata": {},
   "outputs": [
    {
     "name": "stdout",
     "output_type": "stream",
     "text": [
      "(0, '0.062*\"enron\" + 0.011*\"hou\" + 0.007*\"development\" + 0.007*\"please\" + 0.007*\"corp\"')\n",
      "(1, '0.013*\"pm\" + 0.013*\"e\" + 0.013*\"message\" + 0.012*\"enron\" + 0.011*\"mail\"')\n",
      "(2, '0.008*\"company\" + 0.005*\"bakernet\" + 0.005*\"said\" + 0.005*\"new\" + 0.004*\"stock\"')\n",
      "(3, '0.043*\"td\" + 0.031*\"net\" + 0.029*\"money\" + 0.028*\"tr\" + 0.025*\"width\"')\n",
      "(4, '0.029*\"image\" + 0.008*\"click\" + 0.007*\"se\" + 0.007*\"ne\" + 0.007*\"sp\"')\n"
     ]
    }
   ],
   "source": [
    "# Define the LDA model\n",
    "ldamodel = gensim.models.ldamodel.LdaModel(corpus, num_topics=5, id2word=dictionary, passes=5)\n",
    "\n",
    "# Save the topics and top 5 words\n",
    "topics = ldamodel.print_topics(num_words=5)\n",
    "\n",
    "# Print the results\n",
    "for topic in topics:\n",
    "    print(topic)"
   ]
  },
  {
   "cell_type": "code",
   "execution_count": 15,
   "metadata": {},
   "outputs": [],
   "source": [
    "# if ipython is > 7.16.1 results in DeprecationWarning: `should_run_async` will not call `transform_cell` automatically in the future\n",
    "import pyLDAvis.gensim"
   ]
  },
  {
   "cell_type": "code",
   "execution_count": 21,
   "metadata": {},
   "outputs": [],
   "source": [
    "lda_display = pyLDAvis.gensim.prepare(ldamodel, corpus, dictionary, sort_topics=False)"
   ]
  },
  {
   "cell_type": "code",
   "execution_count": 22,
   "metadata": {},
   "outputs": [
    {
     "data": {
      "text/html": [
       "\n",
       "<link rel=\"stylesheet\" type=\"text/css\" href=\"https://cdn.jsdelivr.net/gh/bmabey/pyLDAvis@3.4.0/pyLDAvis/js/ldavis.v1.0.0.css\">\n",
       "\n",
       "\n",
       "<div id=\"ldavis_el55191405754810216006240961789\" style=\"background-color:white;\"></div>\n",
       "<script type=\"text/javascript\">\n",
       "\n",
       "var ldavis_el55191405754810216006240961789_data = {\"mdsDat\": {\"x\": [0.08708851786081889, 0.15075162472207268, 0.030688812724739886, -0.2931667845353963, 0.02463782922776504], \"y\": [0.02924272375756192, -0.2000923159080874, 0.08692730315132113, -0.0720007718720421, 0.15592306087124627], \"topics\": [1, 2, 3, 4, 5], \"cluster\": [1, 1, 1, 1, 1], \"Freq\": [37.85914183171049, 3.750676459009212, 49.093861765188045, 3.641808488652269, 5.654511455439985]}, \"tinfo\": {\"Term\": [\"enron\", \"image\", \"td\", \"money\", \"net\", \"pm\", \"e\", \"hou\", \"message\", \"corp\", \"tr\", \"please\", \"width\", \"class\", \"original\", \"mail\", \"market\", \"development\", \"right\", \"thanks\", \"know\", \"team\", \"day\", \"table\", \"height\", \"mailto\", \"gas\", \"time\", \"br\", \"service\", \"enronxgate\", \"bradford\", \"donate\", \"ref\", \"commoditylogic\", \"lavorato\", \"neumin\", \"underhanded\", \"hou\", \"astronomical\", \"gorny\", \"pocketbook\", \"royalty\", \"vladimir\", \"validation\", \"ee\", \"interchange\", \"debbie\", \"nerc\", \"wiped\", \"brackett\", \"repair\", \"spreadsheet\", \"reef\", \"prc\", \"liz\", \"skadden\", \"hannon\", \"breakfast\", \"financially\", \"na\", \"declared\", \"curve\", \"devon\", \"development\", \"enron\", \"sincerely\", \"bankrupt\", \"aggressively\", \"seller\", \"kay\", \"forwarded\", \"unable\", \"bankruptcy\", \"sara\", \"corp\", \"final\", \"eric\", \"t\", \"credit\", \"vince\", \"communication\", \"request\", \"pm\", \"please\", \"attached\", \"retirement\", \"dynegy\", \"employee\", \"california\", \"thanks\", \"fund\", \"deal\", \"consumer\", \"made\", \"know\", \"john\", \"question\", \"mark\", \"let\", \"bill\", \"energy\", \"million\", \"company\", \"would\", \"message\", \"time\", \"original\", \"e\", \"outage\", \"wj\", \"pager\", \"eei\", \"backout\", \"enform\", \"sat\", \"tagline\", \"breese\", \"pt\", \"agave\", \"kristen\", \"hereto\", \"estoppel\", \"headcount\", \"lover\", \"graf\", \"vegetarian\", \"veggie\", \"chanley\", \"pampa\", \"fri\", \"caiso\", \"cherry\", \"recipient\", \"unify\", \"impacted\", \"paypal\", \"archer\", \"msdw\", \"beth\", \"reliantenergy\", \"netback\", \"powersrc\", \"binding\", \"tonight\", \"server\", \"jerry\", \"rfp\", \"thru\", \"intended\", \"earl\", \"messaging\", \"laurel\", \"scheduled\", \"mail\", \"team\", \"message\", \"original\", \"pm\", \"e\", \"fw\", \"attachment\", \"london\", \"ct\", \"november\", \"doc\", \"thursday\", \"know\", \"enron\", \"thanks\", \"use\", \"corp\", \"contact\", \"let\", \"kim\", \"mark\", \"energy\", \"please\", \"contract\", \"bakernet\", \"classmate\", \"aaaaaaaaaaaaaaaaaaaaaaaaaaaaaaaaaaaaaaaaaaaaaaaaaaaaaaaaaaaaaaaaaaaaaaaaaaaa\", \"aggies\", \"alert\", \"fx\", \"france\", \"labour\", \"redshirt\", \"edgar\", \"military\", \"football\", \"bin\", \"appeal\", \"men\", \"fo\", \"movie\", \"discrimination\", \"investools\", \"mule\", \"flo\", \"college\", \"fool\", \"aaaaaaaaaaaaaaaa\", \"refined\", \"worker\", \"rc\", \"nationally\", \"passion\", \"ipo\", \"school\", \"employer\", \"campaign\", \"oil\", \"circuit\", \"child\", \"yo\", \"store\", \"game\", \"sept\", \"national\", \"union\", \"member\", \"court\", \"security\", \"copyright\", \"share\", \"earnings\", \"former\", \"partnership\", \"mailto\", \"said\", \"friend\", \"news\", \"investor\", \"board\", \"executive\", \"director\", \"government\", \"business\", \"industry\", \"year\", \"company\", \"market\", \"new\", \"stock\", \"say\", \"two\", \"program\", \"even\", \"day\", \"one\", \"see\", \"e\", \"may\", \"right\", \"power\", \"u\", \"also\", \"time\", \"state\", \"energy\", \"would\", \"c\", \"price\", \"enron\", \"service\", \"width\", \"td\", \"src\", \"img\", \"href\", \"scoop\", \"nbsp\", \"align\", \"bodydefault\", \"height\", \"cellpadding\", \"cellspacing\", \"valign\", \"bgcolor\", \"colspan\", \"coords\", \"rect\", \"stocklookup\", \"script\", \"tr\", \"font\", \"linkbarseperator\", \"ffffff\", \"gif\", \"underscore\", \"br\", \"tab\", \"realtime\", \"map\", \"fname\", \"amazon\", \"wrap\", \"table\", \"border\", \"net\", \"money\", \"class\", \"clear\", \"center\", \"image\", \"end\", \"right\", \"start\", \"f\", \"please\", \"wscc\", \"sw\", \"ctr\", \"syncrasy\", \"ecar\", \"npcc\", \"std\", \"frcc\", \"hp\", \"deviation\", \"serc\", \"euci\", \"rk\", \"mapp\", \"brochure\", \"ercot\", \"min\", \"sp\", \"hourahead\", \"enlarge\", \"matrix\", \"savita\", \"ancillary\", \"temp\", \"dbcaps\", \"wyndham\", \"maac\", \"barbo\", \"apb\", \"spp\", \"nc\", \"nw\", \"volatility\", \"ne\", \"image\", \"range\", \"se\", \"reg\", \"delta\", \"click\", \"log\", \"desk\", \"conference\", \"forecast\", \"schedule\", \"market\", \"day\", \"gas\", \"service\", \"message\", \"time\", \"email\", \"please\", \"used\", \"see\", \"power\", \"would\"], \"Freq\": [11292.0, 995.0, 691.0, 734.0, 783.0, 1330.0, 1694.0, 1871.0, 1023.0, 1377.0, 458.0, 1565.0, 404.0, 425.0, 761.0, 553.0, 1014.0, 1250.0, 582.0, 799.0, 850.0, 416.0, 877.0, 273.0, 256.0, 755.0, 890.0, 1375.0, 237.0, 764.0, 441.0879594102736, 154.6640769556937, 211.71252149728, 182.5202570845905, 107.64895017902346, 110.30735410197862, 131.70534960960742, 103.69903181382199, 1856.365143041156, 104.34753515931523, 87.06203830039145, 104.30966294499356, 79.96903721190667, 87.51702007434572, 81.48930138398292, 365.33719280909304, 82.61255859889508, 75.54026280212105, 87.06337976999525, 106.22218060585526, 68.70120774211145, 106.84254225205146, 74.44636724618185, 64.58961312726983, 78.83359012102957, 67.29438037830694, 66.66143516397946, 60.516007376280655, 62.53727642259505, 107.36997310540497, 514.7198650514636, 212.31301384006923, 167.8169920050324, 314.82893750890247, 1204.4763170997069, 10284.07708374344, 146.3733087645207, 113.83887004191484, 108.47752151684078, 239.69800763102967, 193.0556149883302, 533.2151147523616, 226.51418045603828, 321.30889670924654, 139.56511722619263, 1178.605395334898, 480.0011930276676, 166.04502730794817, 168.33656845664774, 478.47596152973966, 219.30232321649828, 368.0663641140456, 507.5430804375069, 1033.8535150480095, 1180.852531895553, 331.8744473998659, 238.90162184290924, 270.8859122160451, 864.5335327222482, 471.2988658503676, 603.0196326396244, 458.18139281679294, 468.3983752678983, 341.25862996766375, 517.3108844288136, 591.6313722501087, 431.84014014393995, 495.84107169341047, 441.5256673328804, 423.9305631777181, 452.07350673641196, 707.262047130132, 538.93626875508, 968.4090066721463, 596.1020043998504, 531.2388384021427, 552.7241655251376, 452.7011978614579, 482.5074470793285, 132.7085893422167, 124.00966258580279, 39.86015981422455, 31.391247403462675, 26.778857107895796, 25.961534022006354, 76.80295759285417, 25.732270841087836, 26.07100183643864, 54.57263407392389, 20.620521639196117, 26.15779603229968, 18.972481622399865, 18.83930204121336, 16.064676713491178, 15.920993345447869, 15.797496085069866, 15.482301584702126, 15.482301584702126, 15.477699256161863, 15.46484567193359, 80.00037695385971, 27.555675080078704, 25.753012618049592, 91.13068912818056, 12.346366983197141, 27.22467915541955, 10.777264749574861, 10.513526959515437, 10.511331247217507, 44.88064057493235, 32.02895159306441, 15.68648549383877, 20.85489081423903, 19.358302942287576, 33.02752687702107, 41.3256976177945, 27.632178319090762, 36.32794055330686, 86.10659892462513, 88.12199316524546, 20.903419908150106, 24.83246023714277, 30.779360167932378, 91.25382621469917, 176.09410777945962, 139.66596185070358, 206.94005966404868, 172.2267573357217, 216.97728462243094, 211.05534839961805, 62.84539618607076, 39.32613947060714, 57.161636965680614, 53.38213042236719, 67.84610783184351, 65.06794625168361, 71.41942543400087, 93.52292923315497, 201.35490718646975, 85.60814912023416, 65.29216314644373, 93.3215477462933, 65.26163889337568, 68.62335916829575, 54.00626742124383, 62.29855211220807, 58.11210303755159, 58.170019764568025, 54.591051092338624, 1107.5701597528466, 343.903211344283, 425.81349346979124, 113.39495239769168, 353.80670437975937, 101.91449298814108, 134.710911072661, 93.35386430585902, 74.88238100825005, 66.57188847282369, 73.74774600017679, 145.55795947894342, 84.71191789820763, 66.18665977244403, 52.122802658604975, 73.03210337678044, 61.964900874454734, 55.93271645920372, 52.97172265145254, 50.23289350821408, 48.29848398579017, 101.1836545008581, 49.288657443380764, 46.460134256604036, 46.22918674832273, 253.94730229262763, 45.227819655616976, 42.55757043562636, 45.08493693711422, 52.65982297570545, 184.902502840498, 120.12971389264888, 105.0666609739966, 177.56270519885396, 75.19880919009526, 76.8241363537183, 61.723292311107386, 67.43079197807127, 260.68433276767576, 191.57102272224546, 183.87415064151654, 187.24932155397394, 509.3297597036474, 258.1988667652001, 354.32216623463495, 209.89597402503878, 509.1829314808755, 208.25818637908316, 178.83790982628176, 234.74008329237282, 666.0460464464566, 1039.87165963766, 184.74697686071087, 448.4118292703646, 346.64403845054596, 331.46496501657833, 332.44365176245867, 320.6487873449773, 247.19975887649164, 663.3883144333008, 306.72816590209953, 874.9101513533731, 1630.6952175656836, 730.7489886238404, 1027.5487783421333, 894.3782022205232, 442.45631117129653, 399.24217353002973, 272.4984835159299, 253.31506359573976, 579.7198248462342, 565.3601053339852, 513.6810080348806, 886.793253885501, 574.6898993589192, 413.70593838489214, 538.174446429164, 509.3307681392434, 503.0773581651284, 648.1370370106624, 437.51154807006037, 582.543847889164, 504.8307251358261, 432.5720288339232, 438.36276855661123, 776.0049562380296, 417.2025375485482, 402.73422637272347, 688.3251051440217, 213.68552364246955, 201.03597569431696, 181.4722924719763, 127.20853297047249, 150.96118850215362, 206.2959046726833, 106.2442816352331, 253.60251528731078, 88.4513229750154, 88.54733683916383, 55.73654559994901, 49.66511806429228, 45.61597739933004, 43.31483514773478, 43.31483514773478, 43.314655612655734, 205.98484518697856, 446.61765659642697, 89.0051812132457, 35.44844955459796, 28.19720537682974, 194.75723002613123, 23.649134857040064, 227.3376852395576, 24.94569605445864, 19.990520392145545, 45.92279162847816, 19.833559979132023, 76.21042678928592, 71.82338988461564, 244.4973339084386, 148.56381170787526, 496.67885896760913, 468.6186332456207, 287.1222232280258, 149.21682567413734, 110.90382286738287, 202.19559276987863, 89.08461052446722, 97.48285756833701, 75.53110345331524, 77.12957906834963, 76.29786785340988, 161.07360589836796, 113.21202301229984, 98.48691171932342, 98.48691171932342, 54.74566208268336, 54.74566208268336, 54.74566208268336, 49.27799281132325, 112.74326824681923, 55.22378427762926, 49.509367738370095, 38.792386705990936, 109.72565508844446, 55.06188396849515, 28.653358068500822, 57.30772082720468, 55.90983088494075, 173.0723945023558, 45.431426027306486, 55.13714862185543, 106.53787180099846, 33.22051131521955, 42.949048507818326, 50.973712420479835, 17.000635876066944, 16.797835093363926, 49.37184132971077, 32.795393787806006, 17.500074344944856, 51.30537052917987, 106.92577513869497, 112.05954462263612, 102.61493404290651, 174.66210477644768, 722.8787127635699, 114.8622121521397, 179.7410518585585, 61.49136117433957, 62.9409955657887, 189.53546885267883, 63.877169381451075, 98.09144707154395, 118.73037396806389, 61.65419648418286, 102.92936142425161, 163.9303292452695, 133.44768003772887, 126.18721949973401, 119.04783284239156, 122.99129415642295, 113.48554266075374, 96.32834352929021, 109.49385621697668, 75.86737456277946, 89.65715412147755, 86.37915197678215, 87.83164944493704], \"Total\": [11292.0, 995.0, 691.0, 734.0, 783.0, 1330.0, 1694.0, 1871.0, 1023.0, 1377.0, 458.0, 1565.0, 404.0, 425.0, 761.0, 553.0, 1014.0, 1250.0, 582.0, 799.0, 850.0, 416.0, 877.0, 273.0, 256.0, 755.0, 890.0, 1375.0, 237.0, 764.0, 442.13384809460484, 155.421160684121, 212.77040642634145, 183.6720250799044, 108.35551275909035, 111.07142310424013, 132.62027857692533, 104.50422777081478, 1871.0776587451473, 105.19849853729494, 87.79174112523414, 105.19936748557849, 80.67564533638523, 88.30435593992645, 82.22243851008453, 368.62665596732774, 83.39985332499127, 76.26821429252605, 87.91780646297543, 107.28671129098076, 69.42004197396398, 107.99769817111161, 75.2639847645177, 65.30969168044135, 79.72054572778279, 68.05260015589637, 67.42500809612712, 61.22202385905258, 63.270580173999996, 108.70006967986771, 521.7314648353488, 215.40989093768076, 170.47803927132756, 322.4163166482715, 1250.903095715479, 11292.772671252838, 149.17075986263018, 115.66749967324213, 110.18339584035577, 248.08666730460234, 198.85436769202477, 567.6889111222075, 235.57879921087695, 338.03546942218475, 143.08981567741097, 1377.826169313081, 533.5519847435332, 172.72223155000867, 176.92718372518777, 552.2101790620115, 236.79007224468543, 420.7913989347255, 601.5638881236757, 1330.4393523903889, 1565.4362328924547, 379.00593659744897, 263.18252566232087, 308.4755531659715, 1222.033102515962, 594.4496234231265, 799.5351278898148, 591.1194718258427, 622.0309257728634, 416.0012396520795, 714.4948193618687, 850.6965370283692, 567.7610076771874, 703.7381633973663, 597.7384390211632, 584.6533161498705, 653.7476067259605, 1396.6448536032003, 897.3077152803477, 2623.129383910441, 1243.6609225715933, 1023.4742241162521, 1375.3205022653244, 761.0787440784522, 1694.3631906239223, 134.35634536991762, 126.51113222811057, 40.90025781837544, 32.46305734504933, 27.781186472417534, 26.973617443383137, 79.88911453466679, 26.86449358768504, 27.25463147525794, 57.069912307636116, 21.64210637833875, 27.51111246763792, 20.012487559663864, 19.880199241427615, 17.06728651844283, 16.938947406498745, 16.814723702155014, 16.48062355747844, 16.48062355747844, 16.505868982397214, 16.5402789758132, 85.58640183953347, 29.499794680089828, 27.577723208268154, 98.99083569989571, 13.43698380697117, 29.645958921914037, 11.777273793193238, 11.508292027235571, 11.508749577971898, 49.22109424666494, 35.25808658336285, 17.234895324964434, 23.06024224497807, 21.374559055684088, 37.42150410540428, 48.22937853515975, 31.680573163864153, 43.45037826564252, 118.7895799574917, 131.60269697645154, 23.493258464322516, 30.130604937827094, 40.602037867461426, 192.0288300269249, 553.325432481497, 416.93751733581615, 1023.4742241162521, 761.0787440784522, 1330.4393523903889, 1694.3631906239223, 167.67599258444255, 67.1569456047796, 155.5958435974718, 137.37042870903366, 299.86481535621436, 273.18853431023206, 350.395282022227, 850.6965370283692, 11292.772671252838, 799.5351278898148, 358.07346099899803, 1377.826169313081, 409.2386071843253, 584.6533161498705, 226.53711240329545, 597.7384390211632, 1396.6448536032003, 1565.4362328924547, 539.1671049336694, 1109.118133970011, 344.5742569023179, 426.69971821883723, 113.97119914863134, 355.6477700952977, 102.58017695668686, 135.6236517811469, 93.99615264810569, 75.44587378645434, 67.18690670476032, 74.4439439874624, 147.00446935817507, 85.56206123263875, 66.8836220352808, 52.710850852386585, 73.86281699705042, 62.688322065350256, 56.59973643504022, 53.61290515944252, 50.84622094873792, 48.894974183154375, 102.47019009098557, 49.916674320984264, 47.05545545361424, 46.835019231045855, 257.2818332643998, 45.83386454312175, 43.12897190295554, 45.69808836975555, 53.38143146856152, 188.19561848948356, 122.1381463794769, 106.73218989180954, 181.7454427124808, 76.31037892908685, 78.00546754854533, 62.618520977675246, 68.47745033296806, 269.2122100626539, 197.98566928866447, 190.09034253970987, 194.2810567727859, 547.2250383423566, 271.7165620821838, 377.34724064207825, 222.1811718839775, 563.6068557249965, 221.36491755614028, 188.77561925103012, 251.4696992282657, 755.0895788538464, 1226.8918496354875, 196.01584486947624, 510.4103244356603, 386.4847111964831, 373.83339800248353, 380.8477073206063, 367.40962053466893, 274.5658585595337, 849.6095729546473, 351.60965630922016, 1215.4627264244436, 2623.129383910441, 1014.9497626537768, 1539.9182867260135, 1310.1532700576392, 555.2642214983429, 504.0308132424233, 312.9151427069454, 284.69255194693386, 877.2066643115628, 855.8609832535324, 762.7197807172389, 1694.3631906239223, 987.022087206985, 582.7897434784267, 932.3421450702682, 860.3948717762154, 843.7362632562155, 1375.3205022653244, 677.8878035126455, 1396.6448536032003, 1243.6609225715933, 747.3384228809281, 880.2637382588255, 11292.772671252838, 764.7451004387293, 404.2872962113603, 691.1799002112903, 214.9799640550577, 202.29608130906135, 182.90502981444732, 128.33924162542684, 152.30875729436778, 208.17294904653025, 107.2752724748479, 256.4834493644788, 89.5532457873223, 89.6749090170321, 56.895932428887676, 50.78382440159363, 46.67788433002565, 44.333215719269035, 44.333215719269035, 44.33377195555569, 210.97753819791802, 458.00303277013563, 91.3704545424317, 36.46608157560564, 29.22590837922225, 202.6026195871044, 24.66454046061698, 237.2566972106456, 26.04090489614469, 21.00912232932562, 48.28671854232755, 20.963042144906932, 80.59305649122346, 77.3471061787595, 273.0337417830646, 187.4974898856249, 783.8331558915982, 734.1706594234422, 425.025896216868, 258.35105234919854, 258.49090668890085, 995.528686823023, 369.42802614917355, 582.7897434784267, 305.352994171588, 463.9142933543816, 1565.4362328924547, 162.6285362008437, 114.3959196371639, 99.61312333583366, 99.61312333583366, 55.81136691084522, 55.81136691084522, 55.81136691084522, 50.33613432263408, 115.16803962413385, 56.52839106090304, 50.762525071481356, 39.78566925534491, 113.16901980137125, 56.82498162815737, 29.659513798570373, 59.37525754966029, 57.95446176479173, 179.41837923144817, 47.11340113881319, 57.217336123053784, 110.59631794621927, 34.7280057299399, 45.025896567553026, 53.477802841330046, 18.009191418932083, 17.806592514316513, 52.44508677674956, 34.936666365367714, 18.658847537888064, 54.74173555034412, 115.42442161957155, 121.31029202863677, 111.08827073394637, 194.27312720957138, 995.528686823023, 134.96216096773793, 228.33708412212155, 68.14596999261762, 72.53441354735426, 335.70041355408796, 74.97413656162966, 160.55357859187302, 295.1599790348834, 79.03659727532742, 257.1561001283195, 1014.9497626537768, 877.2066643115628, 890.8815840081345, 764.7451004387293, 1023.4742241162521, 1375.3205022653244, 666.3166735146517, 1565.4362328924547, 243.7605892826964, 762.7197807172389, 932.3421450702682, 1243.6609225715933], \"Category\": [\"Default\", \"Default\", \"Default\", \"Default\", \"Default\", \"Default\", \"Default\", \"Default\", \"Default\", \"Default\", \"Default\", \"Default\", \"Default\", \"Default\", \"Default\", \"Default\", \"Default\", \"Default\", \"Default\", \"Default\", \"Default\", \"Default\", \"Default\", \"Default\", \"Default\", \"Default\", \"Default\", \"Default\", \"Default\", \"Default\", \"Topic1\", \"Topic1\", \"Topic1\", \"Topic1\", \"Topic1\", \"Topic1\", \"Topic1\", \"Topic1\", \"Topic1\", \"Topic1\", \"Topic1\", \"Topic1\", \"Topic1\", \"Topic1\", \"Topic1\", \"Topic1\", \"Topic1\", \"Topic1\", \"Topic1\", \"Topic1\", \"Topic1\", \"Topic1\", \"Topic1\", \"Topic1\", \"Topic1\", \"Topic1\", \"Topic1\", \"Topic1\", \"Topic1\", \"Topic1\", \"Topic1\", \"Topic1\", \"Topic1\", \"Topic1\", \"Topic1\", \"Topic1\", \"Topic1\", \"Topic1\", \"Topic1\", \"Topic1\", \"Topic1\", \"Topic1\", \"Topic1\", \"Topic1\", \"Topic1\", \"Topic1\", \"Topic1\", \"Topic1\", \"Topic1\", \"Topic1\", \"Topic1\", \"Topic1\", \"Topic1\", \"Topic1\", \"Topic1\", \"Topic1\", \"Topic1\", \"Topic1\", \"Topic1\", \"Topic1\", \"Topic1\", \"Topic1\", \"Topic1\", \"Topic1\", \"Topic1\", \"Topic1\", \"Topic1\", \"Topic1\", \"Topic1\", \"Topic1\", \"Topic1\", \"Topic1\", \"Topic1\", \"Topic1\", \"Topic1\", \"Topic1\", \"Topic1\", \"Topic1\", \"Topic1\", \"Topic2\", \"Topic2\", \"Topic2\", \"Topic2\", \"Topic2\", \"Topic2\", \"Topic2\", \"Topic2\", \"Topic2\", \"Topic2\", \"Topic2\", \"Topic2\", \"Topic2\", \"Topic2\", \"Topic2\", \"Topic2\", \"Topic2\", \"Topic2\", \"Topic2\", \"Topic2\", \"Topic2\", \"Topic2\", \"Topic2\", \"Topic2\", \"Topic2\", \"Topic2\", \"Topic2\", \"Topic2\", \"Topic2\", \"Topic2\", \"Topic2\", \"Topic2\", \"Topic2\", \"Topic2\", \"Topic2\", \"Topic2\", \"Topic2\", \"Topic2\", \"Topic2\", \"Topic2\", \"Topic2\", \"Topic2\", \"Topic2\", \"Topic2\", \"Topic2\", \"Topic2\", \"Topic2\", \"Topic2\", \"Topic2\", \"Topic2\", \"Topic2\", \"Topic2\", \"Topic2\", \"Topic2\", \"Topic2\", \"Topic2\", \"Topic2\", \"Topic2\", \"Topic2\", \"Topic2\", \"Topic2\", \"Topic2\", \"Topic2\", \"Topic2\", \"Topic2\", \"Topic2\", \"Topic2\", \"Topic2\", \"Topic2\", \"Topic2\", \"Topic3\", \"Topic3\", \"Topic3\", \"Topic3\", \"Topic3\", \"Topic3\", \"Topic3\", \"Topic3\", \"Topic3\", \"Topic3\", \"Topic3\", \"Topic3\", \"Topic3\", \"Topic3\", \"Topic3\", \"Topic3\", \"Topic3\", \"Topic3\", \"Topic3\", \"Topic3\", \"Topic3\", \"Topic3\", \"Topic3\", \"Topic3\", \"Topic3\", \"Topic3\", \"Topic3\", \"Topic3\", \"Topic3\", \"Topic3\", \"Topic3\", \"Topic3\", \"Topic3\", \"Topic3\", \"Topic3\", \"Topic3\", \"Topic3\", \"Topic3\", \"Topic3\", \"Topic3\", \"Topic3\", \"Topic3\", \"Topic3\", \"Topic3\", \"Topic3\", \"Topic3\", \"Topic3\", \"Topic3\", \"Topic3\", \"Topic3\", \"Topic3\", \"Topic3\", \"Topic3\", \"Topic3\", \"Topic3\", \"Topic3\", \"Topic3\", \"Topic3\", \"Topic3\", \"Topic3\", \"Topic3\", \"Topic3\", \"Topic3\", \"Topic3\", \"Topic3\", \"Topic3\", \"Topic3\", \"Topic3\", \"Topic3\", \"Topic3\", \"Topic3\", \"Topic3\", \"Topic3\", \"Topic3\", \"Topic3\", \"Topic3\", \"Topic3\", \"Topic3\", \"Topic3\", \"Topic3\", \"Topic3\", \"Topic3\", \"Topic3\", \"Topic3\", \"Topic3\", \"Topic3\", \"Topic3\", \"Topic4\", \"Topic4\", \"Topic4\", \"Topic4\", \"Topic4\", \"Topic4\", \"Topic4\", \"Topic4\", \"Topic4\", \"Topic4\", \"Topic4\", \"Topic4\", \"Topic4\", \"Topic4\", \"Topic4\", \"Topic4\", \"Topic4\", \"Topic4\", \"Topic4\", \"Topic4\", \"Topic4\", \"Topic4\", \"Topic4\", \"Topic4\", \"Topic4\", \"Topic4\", \"Topic4\", \"Topic4\", \"Topic4\", \"Topic4\", \"Topic4\", \"Topic4\", \"Topic4\", \"Topic4\", \"Topic4\", \"Topic4\", \"Topic4\", \"Topic4\", \"Topic4\", \"Topic4\", \"Topic4\", \"Topic4\", \"Topic4\", \"Topic4\", \"Topic4\", \"Topic5\", \"Topic5\", \"Topic5\", \"Topic5\", \"Topic5\", \"Topic5\", \"Topic5\", \"Topic5\", \"Topic5\", \"Topic5\", \"Topic5\", \"Topic5\", \"Topic5\", \"Topic5\", \"Topic5\", \"Topic5\", \"Topic5\", \"Topic5\", \"Topic5\", \"Topic5\", \"Topic5\", \"Topic5\", \"Topic5\", \"Topic5\", \"Topic5\", \"Topic5\", \"Topic5\", \"Topic5\", \"Topic5\", \"Topic5\", \"Topic5\", \"Topic5\", \"Topic5\", \"Topic5\", \"Topic5\", \"Topic5\", \"Topic5\", \"Topic5\", \"Topic5\", \"Topic5\", \"Topic5\", \"Topic5\", \"Topic5\", \"Topic5\", \"Topic5\", \"Topic5\", \"Topic5\", \"Topic5\", \"Topic5\", \"Topic5\", \"Topic5\", \"Topic5\", \"Topic5\", \"Topic5\", \"Topic5\", \"Topic5\", \"Topic5\"], \"logprob\": [30.0, 29.0, 28.0, 27.0, 26.0, 25.0, 24.0, 23.0, 22.0, 21.0, 20.0, 19.0, 18.0, 17.0, 16.0, 15.0, 14.0, 13.0, 12.0, 11.0, 10.0, 9.0, 8.0, 7.0, 6.0, 5.0, 4.0, 3.0, 2.0, 1.0, -5.9365, -6.9845, -6.6705, -6.8189, -7.3469, -7.3225, -7.1452, -7.3843, -4.4994, -7.378, -7.5591, -7.3784, -7.6441, -7.5539, -7.6253, -6.1249, -7.6116, -7.7011, -7.5591, -7.3602, -7.796, -7.3544, -7.7157, -7.8577, -7.6584, -7.8167, -7.8261, -7.9229, -7.89, -7.3495, -5.7821, -6.6677, -6.9029, -6.2737, -4.932, -2.7874, -7.0396, -7.291, -7.3392, -6.5464, -6.7628, -5.7468, -6.603, -6.2534, -7.0872, -4.9537, -5.852, -6.9135, -6.8998, -5.8552, -6.6353, -6.1175, -5.7962, -5.0847, -4.9518, -6.221, -6.5497, -6.4241, -5.2636, -5.8703, -5.6238, -5.8985, -5.8764, -6.1931, -5.7771, -5.6429, -5.9577, -5.8195, -5.9355, -5.9762, -5.9119, -5.4644, -5.7362, -5.1501, -5.6353, -5.7505, -5.7109, -5.9105, -5.8468, -4.8257, -4.8935, -6.0284, -6.2673, -6.4262, -6.4572, -5.3726, -6.4661, -6.453, -5.7143, -6.6875, -6.4497, -6.7708, -6.7779, -6.9372, -6.9462, -6.954, -6.9741, -6.9741, -6.9744, -6.9753, -5.3318, -6.3976, -6.4653, -5.2015, -7.2005, -6.4097, -7.3364, -7.3612, -7.3614, -5.9098, -6.2472, -6.961, -6.6762, -6.7507, -6.2165, -5.9923, -6.3948, -6.1212, -5.2582, -5.2351, -6.6739, -6.5017, -6.287, -5.2002, -4.5428, -4.7746, -4.3814, -4.565, -4.334, -4.3617, -5.5731, -6.0419, -5.6679, -5.7363, -5.4966, -5.5384, -5.4453, -5.1756, -4.4088, -5.264, -5.535, -5.1778, -5.5354, -5.4852, -5.7247, -5.5819, -5.6515, -5.6505, -5.714, -5.2757, -6.4453, -6.2316, -7.5547, -6.4169, -7.6615, -7.3825, -7.7492, -7.9697, -8.0873, -7.985, -7.305, -7.8464, -8.0931, -8.332, -7.9947, -8.1591, -8.2615, -8.3159, -8.369, -8.4082, -7.6687, -8.3879, -8.447, -8.452, -6.7485, -8.4739, -8.5348, -8.4771, -8.3218, -7.0658, -7.4971, -7.631, -7.1063, -7.9655, -7.9441, -8.163, -8.0745, -6.7223, -7.0304, -7.0714, -7.0532, -6.0525, -6.7319, -6.4154, -6.939, -6.0528, -6.9468, -7.0991, -6.8271, -5.7843, -5.3388, -7.0666, -6.1799, -6.4373, -6.4821, -6.4792, -6.5153, -6.7754, -5.7883, -6.5597, -5.5115, -4.8889, -5.6916, -5.3507, -5.4895, -6.1933, -6.2961, -6.678, -6.751, -5.9231, -5.9482, -6.044, -5.498, -5.9318, -6.2605, -5.9974, -6.0525, -6.0649, -5.8115, -6.2045, -5.9182, -6.0614, -6.2159, -6.2026, -5.6315, -6.2521, -3.6861, -3.1501, -4.3199, -4.3809, -4.4833, -4.8385, -4.6673, -4.3551, -5.0186, -4.1486, -5.2019, -5.2008, -5.6637, -5.7791, -5.8641, -5.9159, -5.9159, -5.9159, -4.3566, -3.5827, -5.1957, -6.1163, -6.3451, -4.4126, -6.521, -4.2579, -6.4677, -6.6891, -5.8574, -6.697, -5.3509, -5.4102, -4.1852, -4.6834, -3.4764, -3.5346, -4.0245, -4.679, -4.9757, -4.3751, -5.1948, -5.1047, -5.3598, -5.3389, -5.3497, -5.0425, -5.3951, -5.5344, -5.5344, -6.1216, -6.1216, -6.1216, -6.2269, -5.3992, -6.1129, -6.2222, -6.4661, -5.4264, -6.1159, -6.7691, -6.0759, -6.1006, -4.9706, -6.3081, -6.1145, -5.4558, -6.6212, -6.3643, -6.193, -7.2911, -7.3031, -6.225, -6.6341, -7.2621, -6.1865, -5.4522, -5.4053, -5.4934, -4.9615, -3.5411, -5.3806, -4.9328, -6.0054, -5.9821, -4.8798, -5.9674, -5.5384, -5.3475, -6.0028, -5.4903, -5.0249, -5.2306, -5.2866, -5.3448, -5.3122, -5.3927, -5.5566, -5.4285, -5.7954, -5.6283, -5.6656, -5.6489], \"loglift\": [30.0, 29.0, 28.0, 27.0, 26.0, 25.0, 24.0, 23.0, 22.0, 21.0, 20.0, 19.0, 18.0, 17.0, 16.0, 15.0, 14.0, 13.0, 12.0, 11.0, 10.0, 9.0, 8.0, 7.0, 6.0, 5.0, 4.0, 3.0, 2.0, 1.0, 0.9689, 0.9664, 0.9663, 0.965, 0.9648, 0.9644, 0.9644, 0.9636, 0.9634, 0.9632, 0.963, 0.9628, 0.9625, 0.9623, 0.9623, 0.9623, 0.9618, 0.9617, 0.9615, 0.9613, 0.9609, 0.9605, 0.9604, 0.9602, 0.9601, 0.9601, 0.9599, 0.9597, 0.9596, 0.959, 0.9578, 0.9568, 0.9556, 0.9475, 0.9335, 0.8777, 0.9524, 0.9554, 0.9557, 0.9369, 0.9417, 0.9086, 0.9321, 0.9205, 0.9464, 0.8151, 0.8655, 0.9319, 0.9215, 0.828, 0.8946, 0.8374, 0.8013, 0.7191, 0.6894, 0.8385, 0.8745, 0.8414, 0.6252, 0.7392, 0.6892, 0.7165, 0.6876, 0.7733, 0.6484, 0.6081, 0.6977, 0.6211, 0.6684, 0.6498, 0.6024, 0.2909, 0.4615, -0.0252, 0.2359, 0.3156, 0.0597, 0.4518, -0.2848, 3.2709, 3.2633, 3.2575, 3.2497, 3.2465, 3.245, 3.2438, 3.2402, 3.2388, 3.2385, 3.2349, 3.2328, 3.2299, 3.2295, 3.2227, 3.2213, 3.2208, 3.2207, 3.2207, 3.2189, 3.216, 3.2157, 3.2151, 3.2148, 3.2005, 3.1986, 3.198, 3.1945, 3.1928, 3.1926, 3.1909, 3.1872, 3.1891, 3.1827, 3.1842, 3.1583, 3.1288, 3.1465, 3.1042, 2.9615, 2.8822, 3.1664, 3.0898, 3.0063, 2.5392, 2.1383, 2.1896, 1.6847, 1.7973, 1.4698, 1.2003, 2.3019, 2.7481, 2.2819, 2.338, 1.7971, 1.8485, 1.6927, 1.0754, -0.7436, 1.049, 1.5814, 0.591, 1.4473, 1.1408, 1.8494, 1.022, 0.1038, -0.0093, 0.9931, 0.71, 0.7095, 0.7094, 0.7064, 0.7062, 0.7049, 0.7047, 0.7046, 0.7039, 0.7022, 0.702, 0.7015, 0.7015, 0.701, 0.7002, 0.7001, 0.6998, 0.6996, 0.6994, 0.6993, 0.6992, 0.6988, 0.6988, 0.6987, 0.6984, 0.6984, 0.6981, 0.6981, 0.6979, 0.6978, 0.6938, 0.6949, 0.6957, 0.6882, 0.6968, 0.6962, 0.697, 0.696, 0.6792, 0.6785, 0.6782, 0.6746, 0.6397, 0.6604, 0.6485, 0.6546, 0.6099, 0.6504, 0.6574, 0.6426, 0.586, 0.546, 0.6522, 0.5819, 0.6026, 0.5911, 0.5755, 0.5753, 0.6064, 0.464, 0.5749, 0.3827, 0.2361, 0.3829, 0.3069, 0.3297, 0.4843, 0.4784, 0.5731, 0.5947, 0.2972, 0.2968, 0.3161, 0.064, 0.1706, 0.3688, 0.1619, 0.1871, 0.1943, -0.0409, 0.2736, -0.163, -0.1902, 0.1647, 0.0143, -1.9663, 0.1055, 3.3088, 3.3086, 3.3067, 3.3064, 3.3048, 3.3038, 3.3038, 3.3036, 3.303, 3.3014, 3.3003, 3.3, 3.2921, 3.2904, 3.2897, 3.2895, 3.2895, 3.2894, 3.2887, 3.2875, 3.2865, 3.2844, 3.2769, 3.2732, 3.2706, 3.27, 3.2697, 3.263, 3.2625, 3.2573, 3.2568, 3.2386, 3.2023, 3.0799, 2.8564, 2.8637, 2.9204, 2.7638, 2.4665, 1.7187, 1.8903, 1.5245, 1.9158, 1.5185, 0.2914, 2.8631, 2.8623, 2.8613, 2.8613, 2.8534, 2.8534, 2.8534, 2.8515, 2.8514, 2.8494, 2.8477, 2.8474, 2.8418, 2.8412, 2.8382, 2.8373, 2.8368, 2.8367, 2.8364, 2.8357, 2.8353, 2.8283, 2.8255, 2.8248, 2.8151, 2.8144, 2.8123, 2.8095, 2.8086, 2.8079, 2.7962, 2.7934, 2.7934, 2.7663, 2.5527, 2.7115, 2.6334, 2.77, 2.7309, 2.3011, 2.7125, 2.38, 1.9621, 2.6243, 1.9571, 1.0496, 0.9897, 0.9183, 1.0127, 0.7539, 0.3779, 0.9387, 0.2127, 1.7055, 0.7318, 0.4938, 0.2223]}, \"token.table\": {\"Topic\": [3, 1, 3, 2, 3, 3, 1, 3, 1, 3, 1, 3, 4, 1, 2, 3, 4, 5, 3, 4, 1, 3, 5, 3, 5, 3, 2, 3, 1, 3, 1, 2, 3, 4, 5, 1, 2, 3, 2, 3, 1, 3, 1, 3, 1, 3, 4, 1, 3, 5, 1, 2, 3, 3, 4, 1, 2, 3, 5, 3, 2, 3, 1, 3, 4, 3, 4, 1, 3, 4, 5, 1, 3, 4, 1, 3, 1, 3, 1, 3, 1, 2, 3, 3, 5, 1, 2, 3, 5, 1, 2, 3, 5, 1, 2, 3, 1, 3, 5, 1, 3, 3, 4, 3, 4, 1, 2, 3, 4, 5, 2, 3, 2, 3, 1, 3, 1, 3, 1, 3, 4, 3, 1, 3, 4, 1, 3, 4, 5, 2, 3, 3, 4, 1, 3, 1, 3, 4, 1, 2, 3, 4, 5, 1, 3, 5, 1, 2, 3, 4, 5, 1, 2, 3, 4, 5, 1, 2, 3, 5, 3, 4, 1, 3, 1, 2, 3, 4, 1, 3, 1, 2, 3, 4, 5, 1, 2, 3, 5, 3, 5, 1, 3, 1, 2, 3, 4, 5, 3, 5, 1, 2, 3, 5, 1, 3, 1, 3, 1, 3, 5, 1, 3, 4, 5, 1, 3, 3, 5, 1, 3, 5, 1, 2, 3, 5, 3, 1, 2, 3, 1, 3, 1, 2, 3, 5, 1, 2, 3, 4, 5, 1, 2, 3, 1, 3, 3, 5, 3, 1, 3, 2, 3, 1, 2, 3, 4, 5, 1, 3, 4, 5, 1, 3, 1, 2, 3, 4, 5, 1, 2, 3, 5, 2, 3, 3, 5, 1, 2, 3, 4, 5, 1, 3, 3, 5, 1, 3, 5, 2, 3, 3, 5, 1, 3, 4, 5, 1, 3, 5, 1, 2, 3, 4, 5, 3, 4, 1, 2, 3, 5, 1, 3, 3, 3, 4, 3, 1, 3, 4, 3, 3, 4, 1, 3, 5, 1, 3, 1, 2, 3, 5, 1, 3, 3, 5, 1, 2, 3, 1, 3, 5, 1, 2, 3, 1, 2, 3, 5, 3, 1, 3, 4, 1, 2, 3, 4, 5, 1, 3, 4, 1, 3, 1, 3, 5, 2, 3, 1, 3, 2, 3, 1, 3, 4, 2, 3, 1, 2, 3, 1, 3, 5, 3, 5, 1, 3, 4, 1, 3, 4, 5, 1, 3, 4, 1, 2, 3, 1, 2, 3, 5, 1, 2, 3, 1, 3, 3, 1, 3, 5, 3, 1, 2, 3, 1, 2, 3, 5, 1, 3, 1, 2, 3, 4, 5, 1, 2, 3, 4, 5, 1, 2, 3, 3, 1, 2, 3, 1, 3, 1, 2, 3, 4, 5, 3, 4, 1, 3, 1, 2, 3, 4, 5, 1, 2, 3, 4, 2, 3, 3, 5, 1, 2, 3, 4, 5, 1, 2, 3, 4, 5, 1, 2, 3, 4, 5, 1, 3, 4, 3, 5, 1, 2, 3, 5, 1, 2, 3, 4, 5, 3, 5, 1, 2, 3, 4, 5, 1, 2, 3, 4, 5, 3, 1, 2, 3, 4, 5, 2, 3, 4, 3, 1, 3, 4, 3, 5, 1, 3, 4, 3, 2, 3, 3, 1, 3, 4, 1, 3, 3, 1, 3, 4, 3, 4, 5, 1, 3, 5, 1, 3, 1, 2, 3, 4, 5, 1, 2, 3, 1, 3, 1, 2, 3, 4, 5, 1, 2, 3, 4, 5, 1, 2, 3, 4, 3, 5, 1, 3, 5, 1, 3, 1, 2, 3, 4, 5, 1, 2, 3, 4, 5, 1, 2, 3, 2, 3, 2, 3, 1, 3, 3, 2, 3, 1, 2, 3, 4, 5, 1, 2, 3, 4, 5, 1, 3, 1, 2, 3, 4, 5, 1, 2, 3, 1, 3, 1, 3, 4, 5, 1, 3, 2, 3, 4, 1, 2, 3, 4, 5, 1, 3, 5, 3, 3, 4, 1, 2, 3, 3, 4, 3, 1, 3, 1, 3, 3, 3, 4, 5, 1, 2, 3, 1, 3, 1, 2, 3, 4, 5, 1, 3, 1, 2, 3, 5, 1, 2, 3, 4, 5, 3, 5, 1, 3, 1, 3, 4, 5, 1, 3, 1, 2, 3, 2, 3, 5, 1, 2, 3, 4, 5, 1, 3, 4, 5, 1, 2, 3, 5, 1, 3, 3, 4, 3, 4, 1, 3, 4, 5, 1, 3, 5, 1, 2, 3, 4, 5, 1, 3, 4, 1, 3, 4, 3, 5, 1, 2, 3, 1, 2, 3, 4, 5, 1, 3, 5, 1, 3, 1, 3, 3, 5, 3, 5, 1, 3, 1, 3, 4, 1, 2, 3, 4, 5, 1, 3, 4, 5, 3, 5, 1, 2, 3, 4, 5, 3, 4, 1, 3, 3, 5, 3, 5, 1, 3, 3, 4, 1, 3, 4, 2, 3, 1, 3, 4, 1, 2, 3, 5, 3, 5, 1, 2, 3, 4, 5, 1, 2, 3, 1, 2, 3, 4, 5, 1, 2, 3, 4, 5, 1, 2, 3, 1, 3, 4, 1, 3, 4, 5, 1, 2, 3, 4, 5, 1, 3, 1, 3, 3, 4, 2, 3, 1, 2, 3, 1, 2, 3, 4, 5, 1, 3, 5, 1, 3, 3, 4, 2, 3, 2, 3, 1, 3, 1, 3, 1, 3, 5, 1, 3, 4, 1, 3, 2, 3, 1, 3, 1, 2, 3, 4, 5, 1, 3, 4, 3, 5, 3, 5, 1, 3, 4, 5, 1, 3], \"Freq\": [0.9775699662570544, 0.0023435684564645995, 0.9983601624539195, 0.9703306893001218, 0.046206223300005796, 0.9914785563731343, 0.9801839848581243, 0.009075777637575225, 0.0028117707577135793, 0.9953668482306071, 0.004803698100930889, 0.004803698100930889, 0.989561808791763, 0.29156030232790614, 0.01777806721511623, 0.5961578539468976, 0.0023704089620154973, 0.0924459495186044, 0.04963206725427516, 0.943009277831228, 0.022209441149043753, 0.022209441149043753, 0.9550059694088813, 0.053593878076844334, 0.964689805383198, 0.9867886635264058, 0.9558325400474158, 0.0868938672770378, 0.9886072657503753, 0.009505839093753608, 0.8759757247618655, 0.04749265977624572, 0.02110784878944254, 0.005276962197360635, 0.05013114087492604, 0.1637954183434025, 0.5807292104902453, 0.2382478812267673, 0.9718807375922143, 0.035995582873785716, 0.0009016172122446233, 0.9989918711670426, 0.9855836801352776, 0.017290941756759257, 0.9496044913532179, 0.047332311095487495, 0.0029582694434679684, 0.028623223221757862, 0.028623223221757862, 0.9445663663180095, 0.081265970641663, 0.9142421697187086, 0.02031649266041575, 0.01969130942349075, 0.9845654711745374, 0.6913983245975697, 0.033652130843244546, 0.19579421581524098, 0.07801175786388508, 0.9934309526378691, 0.8889072261328064, 0.04678459084909507, 0.10164955887581652, 0.8854211575761912, 0.010699953565875423, 0.009321812724684183, 0.9881121488165234, 0.01600021419929422, 0.16000214199294222, 0.794677305231613, 0.03200042839858844, 0.012644532421086874, 0.02950390898253604, 0.9567696198622402, 0.9939492693749521, 0.014405061874999306, 0.9972901972790117, 0.006434130305025882, 0.9957234440832394, 0.01580513403306729, 0.03669101161422091, 0.9539663019697437, 0.03669101161422091, 0.03371599436158665, 0.9777638364860127, 0.1741976605622596, 0.007062067320091606, 0.7803584388701225, 0.037664359040488565, 0.40945305450828445, 0.0013380818774780538, 0.5793894529479973, 0.009366573142346377, 0.03389854101848803, 0.9491591485176648, 0.03389854101848803, 0.792329545584966, 0.17663397513040646, 0.03028011002235539, 0.009369244658182905, 0.9837706891092051, 0.01116654110309831, 0.9826556170726513, 0.011151391297314484, 0.9924738254609891, 0.1702187537798183, 0.06963494472810748, 0.297882819114682, 0.42941549248999616, 0.030948864323603328, 0.9087676641561158, 0.06058451094374105, 0.9427899396787356, 0.03626115152610521, 0.012819614206884506, 0.987110293930107, 0.013104377334166728, 0.9828283000625045, 0.09646471042103254, 0.2282213880692721, 0.6752529729472277, 0.9983334306297852, 0.2477249440946531, 0.170310899065074, 0.5767346354703642, 0.026809618447341955, 0.3276731143564017, 0.08340770183617498, 0.5659808338883302, 0.009758935736452501, 0.9856525093817026, 0.02142342169858688, 0.9854773981349965, 0.9967190154885727, 0.009228879773042339, 0.8745425902992027, 0.10456487492707858, 0.019011795441287015, 0.36902487766613706, 0.0022873442830545687, 0.6217764209436669, 0.0011436721415272843, 0.005718360707636421, 0.48109503349442156, 0.11519176858317136, 0.40317119004109975, 0.8197090957834491, 0.012019194952836498, 0.12499962750949957, 0.028846067886807592, 0.014423033943403796, 0.34209871097753625, 0.15883154438242755, 0.42762338872192035, 0.03420987109775363, 0.036653433319021746, 0.43585745096394685, 0.10200919065113649, 0.4395668760785336, 0.02225655068752069, 0.022556450818553165, 0.969927385197786, 0.054009977075223876, 0.9451745988164179, 0.8556957519451047, 0.0674976292882907, 0.07620700080936046, 0.0007257809600891474, 0.04784397351556362, 0.9495188590011856, 0.8656124391113805, 0.014487237474667456, 0.11227609042867279, 0.005432714053000296, 0.001810904684333432, 0.06551628385074806, 0.3858181160099608, 0.0582366967562205, 0.4877323353333467, 0.010038837921270877, 0.9838061162845461, 0.98546417308693, 0.011731716346272977, 0.13679786632056282, 0.010259839974042213, 0.6611896872160536, 0.04103935989616885, 0.15161763517195714, 0.05552720145718227, 0.9439624247720986, 0.7523741676002966, 0.001607637110257044, 0.21060046144367278, 0.03376037931539792, 0.9964832755688061, 0.013111622046957976, 0.9841702211405545, 0.01392693709161162, 0.013786559387388549, 0.12407903448649693, 0.8685532414054785, 0.20553886303516133, 0.14948280948011733, 0.031142251975024446, 0.6103881387104791, 0.9625046129663212, 0.0367734320568528, 0.017690225765007384, 0.9729624170754061, 0.9769977005960214, 0.0031015800018921315, 0.02171106001324492, 0.10887031194716792, 0.01360878899339599, 0.8736842533760226, 0.002721757798679198, 0.9894039005688915, 0.5966575442543929, 0.23793092255543272, 0.16106093219136985, 0.9963791655085823, 0.004699901724097086, 0.8785137013894639, 0.06807670748774444, 0.04538447165849629, 0.009725243926820634, 0.2850628499679239, 0.1245305617872297, 0.5235005132951315, 0.034231149685589206, 0.03305076521367234, 0.0851308047811781, 0.89387345020237, 0.04256540239058905, 0.05420913183750846, 0.9396249518501467, 0.01791749701449582, 0.98546233579727, 0.9972181082010273, 0.9901617099343755, 0.008138315424118156, 0.9549316218278976, 0.030804245865416052, 0.3361764892036346, 0.015007878982305115, 0.4652442484514585, 0.039020485353993294, 0.1440756382301291, 0.7078367993625619, 0.2855896450607331, 0.004091542192847178, 0.0024549253157083073, 0.016374900547336813, 0.9824940328402088, 0.300464480610842, 0.024361984914392596, 0.3789642097794404, 0.2409129619312157, 0.05413774425420577, 0.5062131566059994, 0.04152809488422626, 0.41742895375006744, 0.03436807852487691, 0.9639048249487955, 0.0370732624980306, 0.017477220502705018, 0.961247127648776, 0.9106709485243784, 0.01779899461818359, 0.06871651653587296, 0.0015939398165537545, 0.001239730968430698, 0.9974355094062778, 0.0022617585247307883, 0.03368406441567415, 0.9599958358467132, 0.9610806814520436, 0.0289482132967483, 0.00578964265934966, 0.9557248279688566, 0.05030130673520298, 0.02513467835822964, 0.980252455970956, 0.08078890663879101, 0.8886779730267012, 0.02810048926566644, 0.003512561158208305, 0.11028030152914493, 0.8717395263732409, 0.01575432878987785, 0.11424524046624619, 0.015088994023843836, 0.6617601664742939, 0.1659789342622822, 0.04311141149669667, 0.03421621620872992, 0.9580540538444378, 0.8996311769521868, 0.007496926474601556, 0.044981558847609335, 0.04873002208491012, 0.9843599945715344, 0.009199626117490976, 0.9816959882256627, 0.04770300002678545, 0.954060000535709, 0.9883186556899817, 0.010944456881689343, 0.010944456881689343, 0.9740566624703516, 0.9816359095742301, 0.9931670828610817, 0.006802514266171792, 0.012652366555159967, 0.20243786488255947, 0.7844467264199179, 0.05297294237293533, 0.9482156684755424, 0.938894506405569, 0.019376809700677785, 0.026422922319106073, 0.015853753391463644, 0.007373345186234032, 0.9954016001415943, 0.019866444125216452, 0.9734557621356061, 0.046736396367026006, 0.9347279273405202, 0.011684099091756502, 0.01530488518414239, 0.943801253022114, 0.04081302715771304, 0.7748010712374863, 0.016917053957150357, 0.20638805827723436, 0.5784966500266893, 0.3757246283678497, 0.029819414949829343, 0.023855531959863473, 0.9943441610855104, 0.02228725063623086, 0.9694954026760425, 0.007429083545410287, 0.46021829091514405, 0.012347320000162402, 0.38501188727779123, 0.0011224836363784001, 0.1414329381836784, 0.014807311011643745, 0.02467885168607291, 0.9624752157568435, 0.9909815990082174, 0.011390593092048476, 0.09833706252354617, 0.8996020164191075, 0.0036421134267980064, 0.9515470062674537, 0.059471687891715856, 0.9963734642362734, 0.01633399121698809, 0.937465951761604, 0.05859162198510025, 0.0038988870528598447, 0.0077977741057196895, 0.9903173114264006, 0.9494072110403415, 0.04996880058107061, 0.9919417247730598, 0.0037411595223121865, 0.0037411595223121865, 0.02122538334801253, 0.02122538334801253, 0.9551422506605638, 0.017365929007103573, 0.981174988901352, 0.00546731820887854, 0.00546731820887854, 0.9895845958070156, 0.003013474186840098, 0.06730092350609553, 0.20290726191389993, 0.7262472790284636, 0.004943249486243051, 0.004943249486243051, 0.9935931467348532, 0.03373141016062087, 0.9107480743367634, 0.06746282032124173, 0.10807439249217098, 0.014220314801601444, 0.8731273288183287, 0.005688125920640577, 0.12917668399335244, 0.6686793053773539, 0.19756434022512728, 0.9952055871917049, 0.011990428761345843, 0.9885679547187424, 0.10090955442781534, 0.8978362919603057, 0.0025874244725080852, 0.9928546039686822, 0.09469525644257892, 0.88382239346407, 0.03156508548085964, 0.7608835304970833, 0.04051000278109471, 0.11448479046831114, 0.08278131003093268, 0.9705595217245029, 0.025144029060220282, 0.5959288461294793, 0.2383715384517917, 0.004414287749107254, 0.017657150996429016, 0.14567149572053936, 0.6959003290032881, 0.1104976873755221, 0.11402420931303876, 0.01998362431259442, 0.06112638025028882, 0.03634894812691881, 0.945072651299889, 0.03634894812691881, 0.9894021976427588, 0.22166375070578964, 0.7635084746532754, 0.024629305633976625, 0.990353746496661, 0.009003215877242373, 0.7252161037795456, 0.11801865839808644, 0.09407284365064861, 0.01026249203461621, 0.05302287551218376, 0.027422743458923215, 0.9597960210623125, 0.9845325505052701, 0.014694515679183137, 0.053351731456246256, 0.06668966432030782, 0.013337932864061564, 0.013337932864061564, 0.8536277032999401, 0.31491843783927514, 0.3663336929967078, 0.2956377171552379, 0.02570762757871634, 0.9445687276802979, 0.05903554548001862, 0.05720268921987917, 0.9343105905913598, 0.7235881716563659, 0.01679508328796207, 0.24772747849744053, 0.004198770821990517, 0.006997951369984196, 0.32530584974696447, 0.3180768308636986, 0.27289546284328686, 0.07771195299510818, 0.005421764162449407, 0.03708169306547882, 0.06886600140731781, 0.8820145564860319, 0.010594769447279663, 0.001324346180909958, 0.04141925689663141, 0.020709628448315705, 0.9526429086225224, 0.017597893942907842, 0.9678841668599314, 0.7394538666842384, 0.1037242980416805, 0.1254729411794522, 0.031786478432127896, 0.08768906922771505, 0.013793786170651806, 0.7202326921961765, 0.017734867933695178, 0.1615843522847783, 0.027125677018097823, 0.9674824803121557, 0.3262338342510409, 0.051670576232307724, 0.5825604183054301, 0.015197228303619918, 0.02532871383936653, 0.049339847609655936, 0.01096441057992354, 0.9301474975301804, 0.00913700881660295, 0.00182740176332059, 0.986514145742453, 0.5188210777447835, 0.2022522845445766, 0.11040825194945486, 0.04787614465064857, 0.12017889371489335, 0.8297211440522411, 0.03318884576208964, 0.13275538304835857, 0.9940365332130016, 0.6006857968802811, 0.3945134918286076, 0.004457779568684831, 0.017254926877908063, 0.9662759051628516, 0.23972627854430476, 0.12122522040024501, 0.6388160490754484, 0.9890199315809935, 0.9557945392307727, 0.08689041265734297, 0.9833572499008124, 0.9870978361685103, 0.009583474137558352, 0.0019166948275116706, 0.0315639391240857, 0.9679607998052947, 0.9970096225978736, 0.006565610656695831, 0.006565610656695831, 0.9914072091610705, 0.060645744650740956, 0.008663677807248709, 0.9270135253756118, 0.00514739230465598, 0.09265306148380764, 0.9007936533147964, 0.9895606305491488, 0.011374260121254583, 0.2143313264273729, 0.03954923285267, 0.09440784616443806, 0.6340635073476448, 0.01786094386894774, 0.058021820332817345, 0.9283491253250775, 0.058021820332817345, 0.9953228979490829, 0.007540324984462749, 0.26624789349809724, 0.011039546803579641, 0.6675678890635218, 0.00909139148530088, 0.04545695742650441, 0.05681703251607245, 0.021551288195751618, 0.8777251919724296, 0.017632872160160417, 0.02351049621354722, 0.41685450776047345, 0.22676885222169757, 0.3201442619600436, 0.033348360620837875, 0.01791749701449582, 0.98546233579727, 0.03297329462413421, 0.04121661828016777, 0.9232522494757579, 0.0220088049543446, 0.9793918204683346, 0.2488721932273233, 0.014020968632525254, 0.6601539397813975, 0.001168414052710438, 0.07594691342617846, 0.5952077935753053, 0.22599501213013798, 0.040731659162989986, 0.028906338760831603, 0.10905573259768286, 0.00744289372598475, 0.9899048655559717, 0.00744289372598475, 0.9779889451461851, 0.024449723628654624, 0.9068770860476086, 0.0604584724031739, 0.0636259559267074, 0.934506227673515, 0.9847239043325592, 0.9340022311748862, 0.08490929374317148, 0.7544222978778686, 0.0370503753403187, 0.09007074005146443, 0.04854876768731416, 0.06962915365680583, 0.7771868729996757, 0.1631040149332008, 0.020294047940997335, 0.003006525620888494, 0.03682993885588405, 0.9885990998401877, 0.00950576057538642, 0.3196251521779491, 0.0010725676247582186, 0.5770413821199216, 0.009653108622823967, 0.0922408157292068, 0.08672935777314086, 0.9106582566179791, 0.04336467888657043, 0.9909616056788774, 0.01254381779340351, 0.4498651742525414, 0.4975781472793261, 0.028400579182609936, 0.023856486513392346, 0.1278301831415721, 0.8692452453626903, 0.9637302350058253, 0.017522367909196826, 0.017522367909196826, 0.7048075915131709, 0.0014209830474055864, 0.21456844015824353, 0.028419660948111727, 0.04973440665919552, 0.007409484205273249, 0.14078019990019172, 0.8520906836064237, 0.9818068026461695, 0.047598371046854646, 0.9519674209370929, 0.030305835674475073, 0.9192770154590771, 0.0404077808993001, 0.022556450818553165, 0.969927385197786, 0.9940901501423873, 0.9952581053060753, 0.015311663158555004, 0.9963411680161308, 0.005444487256918747, 0.9821710496812962, 0.029348764134059045, 0.05869752826811809, 0.8951373060888008, 0.08508686348894506, 0.9075932105487473, 0.028362287829648353, 0.9907618570765198, 0.009259456608191774, 0.844465583837639, 0.026597341223232727, 0.08311669132260227, 0.013298670611616364, 0.03490901035549295, 0.9081150026907618, 0.09119146470534846, 0.023014759362652754, 0.8285313370554992, 0.023014759362652754, 0.13808855617591653, 0.09952131218683159, 0.0017158846928764068, 0.7103762628508324, 0.16644081520901147, 0.022306501007393287, 0.0265090216851348, 0.971997461788276, 0.9916251635351901, 0.012395314544189876, 0.14915740132626176, 0.8476704774825805, 0.0024452033004305207, 0.0008150677668101736, 0.978406459867299, 0.02096585271144212, 0.012517349902107924, 0.9638359424623101, 0.012517349902107924, 0.028795203726250093, 0.028795203726250093, 0.950241722966253, 0.18189538617751805, 0.010805666505595132, 0.7960174325788414, 0.0018009444175991888, 0.010805666505595132, 0.4899747660550408, 0.08555114962865792, 0.023332131716906707, 0.4005349278068984, 0.1197736818829501, 0.4738871761455852, 0.374943699807496, 0.026037756931076107, 0.015940859963047657, 0.9830196977212722, 0.007791849066076123, 0.9895648313916676, 0.018959364272454444, 0.976407260031404, 0.013138470308202366, 0.1751796041093649, 0.02627694061640473, 0.7883082184921419, 0.05830173810881914, 0.9381279677509989, 0.0026500790049463247, 0.16782048038616834, 0.034088535078440445, 0.6739041165507071, 0.00786658501810164, 0.11799877527152461, 0.9674038617533869, 0.01612339769588978, 0.01612339769588978, 0.010101741238069036, 0.9697671588546274, 0.02020348247613807, 0.01969957165432271, 0.9849785827161355, 0.02073425016810011, 0.8501042568921046, 0.10367125084050055, 0.24714117147213094, 0.009153376721190034, 0.5452797275337492, 0.043151633114181596, 0.1556074042602306, 0.09403718116917398, 0.9031117965115011, 0.001774286437154226, 0.9787440925718278, 0.01340745332290175, 0.9936965807179261, 0.014831292249521285, 0.03344139003875434, 0.9642267461174169, 0.05480279296663881, 0.9316474804328597, 0.9832059813405788, 0.013286567315413228, 0.00465159627500865, 0.00465159627500865, 0.9954416028518512, 0.2914659482591742, 0.02947408465542211, 0.3143902363245025, 0.2488922704235645, 0.11789633862168844, 0.33486367334497336, 0.6461246208154111, 0.01917721477306015, 0.001475170367158473, 0.01791749701449582, 0.98546233579727, 0.30988740728185055, 0.0007632694760636714, 0.6823629116009222, 0.006106155808509371, 0.0007632694760636714, 0.022556167812711567, 0.9699152159465974, 0.014603347454345215, 0.9784242794411294, 0.008741570531289555, 0.9877974700357196, 0.010038837921270877, 0.9838061162845461, 0.9495431762534924, 0.04521634172635678, 0.03840112330919992, 0.9600280827299978, 0.021975305912070097, 0.08423867266293537, 0.893662440424184, 0.9678202164926968, 0.03722385448048834, 0.0028936026631975406, 0.0014468013315987703, 0.995399316139954, 0.48688350546419323, 0.33578172790634014, 0.11992204568083577, 0.05516414101318445, 0.03739869429441686, 0.95366670450763, 0.7541882513548552, 0.10756250350997935, 0.01625944820499688, 0.025014535699995198, 0.09755668922998127, 0.26938389723619743, 0.7239692238222806, 0.00841824678863117, 0.3339086055176343, 0.2026282990748037, 0.31107724787540286, 0.039954875873904956, 0.10844894880059917, 0.40208809443990695, 0.029811233041656754, 0.4711629027071604, 0.014542064898369147, 0.08216266667578569, 0.02672260305687669, 0.8818459008769307, 0.08016780917063007, 0.008733566622489017, 0.01528374158935578, 0.9759760700631477, 0.1488004265404451, 0.7916182691951679, 0.007936022748823738, 0.051584147867354296, 0.29172651794382604, 0.029056426090022514, 0.5915888351928584, 0.02440739791561891, 0.06392413739804953, 0.9635841627531275, 0.0382037773778773, 0.9951750490715018, 0.009568990856456749, 0.04054403533675183, 0.9730568480820438, 0.8930575620530512, 0.07442146350442093, 0.01029436442863817, 0.025735911071595428, 0.9625230740776689, 0.20945422704814715, 0.18152699677506087, 0.5557518824344171, 0.03351267632770354, 0.02234178421846903, 0.38562427288434803, 0.299474169367632, 0.31178132701287714, 0.985132543716341, 0.012162130169337542, 0.017575948882635268, 0.9842531374275749, 0.9101597368379563, 0.06067731578919708, 0.9101597368379563, 0.06067731578919708, 0.9248698559190346, 0.07179355045946843, 0.9965533303913852, 0.011324469663538467, 0.009001850450935319, 0.06301295315654723, 0.927190596446338, 0.0024734885547261984, 0.0024734885547261984, 0.9968158875546579, 0.988006797155978, 0.009320818841094132, 0.9801508991036237, 0.015808885469413284, 0.011660364674551282, 0.9872442091120085, 0.4792303023943331, 0.026534563723176162, 0.4060592327334534, 0.017689709148784108, 0.07075883659513643, 0.03878619573777717, 0.02585746382518478, 0.930868697706652, 0.006148982357960939, 0.9899861596317113, 0.05615897590715345, 0.9547025904216087, 0.2665651467183356, 0.7198904425263692, 0.001645463868631701, 0.011518247080421908, 0.015969716058233312, 0.9901223956104654], \"Term\": [\"aaaaaaaaaaaaaaaa\", \"aaaaaaaaaaaaaaaaaaaaaaaaaaaaaaaaaaaaaaaaaaaaaaaaaaaaaaaaaaaaaaaaaaaaaaaaaaaa\", \"aaaaaaaaaaaaaaaaaaaaaaaaaaaaaaaaaaaaaaaaaaaaaaaaaaaaaaaaaaaaaaaaaaaaaaaaaaaa\", \"agave\", \"agave\", \"aggies\", \"aggressively\", \"aggressively\", \"alert\", \"alert\", \"align\", \"align\", \"align\", \"also\", \"also\", \"also\", \"also\", \"also\", \"amazon\", \"amazon\", \"ancillary\", \"ancillary\", \"ancillary\", \"apb\", \"apb\", \"appeal\", \"archer\", \"archer\", \"astronomical\", \"astronomical\", \"attached\", \"attached\", \"attached\", \"attached\", \"attached\", \"attachment\", \"attachment\", \"attachment\", \"backout\", \"backout\", \"bakernet\", \"bakernet\", \"bankrupt\", \"bankrupt\", \"bankruptcy\", \"bankruptcy\", \"bankruptcy\", \"barbo\", \"barbo\", \"barbo\", \"beth\", \"beth\", \"beth\", \"bgcolor\", \"bgcolor\", \"bill\", \"bill\", \"bill\", \"bill\", \"bin\", \"binding\", \"binding\", \"board\", \"board\", \"board\", \"bodydefault\", \"bodydefault\", \"border\", \"border\", \"border\", \"border\", \"br\", \"br\", \"br\", \"brackett\", \"brackett\", \"bradford\", \"bradford\", \"breakfast\", \"breakfast\", \"breese\", \"breese\", \"breese\", \"brochure\", \"brochure\", \"business\", \"business\", \"business\", \"business\", \"c\", \"c\", \"c\", \"c\", \"caiso\", \"caiso\", \"caiso\", \"california\", \"california\", \"california\", \"campaign\", \"campaign\", \"cellpadding\", \"cellpadding\", \"cellspacing\", \"cellspacing\", \"center\", \"center\", \"center\", \"center\", \"center\", \"chanley\", \"chanley\", \"cherry\", \"cherry\", \"child\", \"child\", \"circuit\", \"circuit\", \"class\", \"class\", \"class\", \"classmate\", \"clear\", \"clear\", \"clear\", \"click\", \"click\", \"click\", \"click\", \"college\", \"college\", \"colspan\", \"colspan\", \"commoditylogic\", \"commoditylogic\", \"communication\", \"communication\", \"communication\", \"company\", \"company\", \"company\", \"company\", \"company\", \"conference\", \"conference\", \"conference\", \"consumer\", \"consumer\", \"consumer\", \"consumer\", \"consumer\", \"contact\", \"contact\", \"contact\", \"contact\", \"contact\", \"contract\", \"contract\", \"contract\", \"contract\", \"coords\", \"coords\", \"copyright\", \"copyright\", \"corp\", \"corp\", \"corp\", \"corp\", \"court\", \"court\", \"credit\", \"credit\", \"credit\", \"credit\", \"credit\", \"ct\", \"ct\", \"ct\", \"ct\", \"ctr\", \"ctr\", \"curve\", \"curve\", \"day\", \"day\", \"day\", \"day\", \"day\", \"dbcaps\", \"dbcaps\", \"deal\", \"deal\", \"deal\", \"deal\", \"debbie\", \"debbie\", \"declared\", \"declared\", \"delta\", \"delta\", \"delta\", \"desk\", \"desk\", \"desk\", \"desk\", \"development\", \"development\", \"deviation\", \"deviation\", \"devon\", \"devon\", \"devon\", \"director\", \"director\", \"director\", \"director\", \"discrimination\", \"doc\", \"doc\", \"doc\", \"donate\", \"donate\", \"dynegy\", \"dynegy\", \"dynegy\", \"dynegy\", \"e\", \"e\", \"e\", \"e\", \"e\", \"earl\", \"earl\", \"earl\", \"earnings\", \"earnings\", \"ecar\", \"ecar\", \"edgar\", \"ee\", \"ee\", \"eei\", \"eei\", \"email\", \"email\", \"email\", \"email\", \"email\", \"employee\", \"employee\", \"employee\", \"employee\", \"employer\", \"employer\", \"end\", \"end\", \"end\", \"end\", \"end\", \"energy\", \"energy\", \"energy\", \"energy\", \"enform\", \"enform\", \"enlarge\", \"enlarge\", \"enron\", \"enron\", \"enron\", \"enron\", \"enron\", \"enronxgate\", \"enronxgate\", \"ercot\", \"ercot\", \"eric\", \"eric\", \"eric\", \"estoppel\", \"estoppel\", \"euci\", \"euci\", \"even\", \"even\", \"even\", \"even\", \"executive\", \"executive\", \"executive\", \"f\", \"f\", \"f\", \"f\", \"f\", \"ffffff\", \"ffffff\", \"final\", \"final\", \"final\", \"final\", \"financially\", \"financially\", \"flo\", \"fname\", \"fname\", \"fo\", \"font\", \"font\", \"font\", \"fool\", \"football\", \"football\", \"forecast\", \"forecast\", \"forecast\", \"former\", \"former\", \"forwarded\", \"forwarded\", \"forwarded\", \"forwarded\", \"france\", \"france\", \"frcc\", \"frcc\", \"fri\", \"fri\", \"fri\", \"friend\", \"friend\", \"friend\", \"fund\", \"fund\", \"fund\", \"fw\", \"fw\", \"fw\", \"fw\", \"fx\", \"game\", \"game\", \"game\", \"gas\", \"gas\", \"gas\", \"gas\", \"gas\", \"gif\", \"gif\", \"gif\", \"gorny\", \"gorny\", \"government\", \"government\", \"government\", \"graf\", \"graf\", \"hannon\", \"hannon\", \"headcount\", \"headcount\", \"height\", \"height\", \"height\", \"hereto\", \"hereto\", \"hou\", \"hou\", \"hou\", \"hourahead\", \"hourahead\", \"hourahead\", \"hp\", \"hp\", \"href\", \"href\", \"href\", \"image\", \"image\", \"image\", \"image\", \"img\", \"img\", \"img\", \"impacted\", \"impacted\", \"impacted\", \"industry\", \"industry\", \"industry\", \"industry\", \"intended\", \"intended\", \"intended\", \"interchange\", \"interchange\", \"investools\", \"investor\", \"investor\", \"investor\", \"ipo\", \"jerry\", \"jerry\", \"jerry\", \"john\", \"john\", \"john\", \"john\", \"kay\", \"kay\", \"kim\", \"kim\", \"kim\", \"kim\", \"kim\", \"know\", \"know\", \"know\", \"know\", \"know\", \"kristen\", \"kristen\", \"kristen\", \"labour\", \"laurel\", \"laurel\", \"laurel\", \"lavorato\", \"lavorato\", \"let\", \"let\", \"let\", \"let\", \"let\", \"linkbarseperator\", \"linkbarseperator\", \"liz\", \"liz\", \"log\", \"log\", \"log\", \"log\", \"log\", \"london\", \"london\", \"london\", \"london\", \"lover\", \"lover\", \"maac\", \"maac\", \"made\", \"made\", \"made\", \"made\", \"made\", \"mail\", \"mail\", \"mail\", \"mail\", \"mail\", \"mailto\", \"mailto\", \"mailto\", \"mailto\", \"mailto\", \"map\", \"map\", \"map\", \"mapp\", \"mapp\", \"mark\", \"mark\", \"mark\", \"mark\", \"market\", \"market\", \"market\", \"market\", \"market\", \"matrix\", \"matrix\", \"may\", \"may\", \"may\", \"may\", \"may\", \"member\", \"member\", \"member\", \"member\", \"member\", \"men\", \"message\", \"message\", \"message\", \"message\", \"message\", \"messaging\", \"messaging\", \"messaging\", \"military\", \"million\", \"million\", \"million\", \"min\", \"min\", \"money\", \"money\", \"money\", \"movie\", \"msdw\", \"msdw\", \"mule\", \"na\", \"na\", \"na\", \"national\", \"national\", \"nationally\", \"nbsp\", \"nbsp\", \"nbsp\", \"nc\", \"nc\", \"nc\", \"ne\", \"ne\", \"ne\", \"nerc\", \"nerc\", \"net\", \"net\", \"net\", \"net\", \"net\", \"netback\", \"netback\", \"netback\", \"neumin\", \"neumin\", \"new\", \"new\", \"new\", \"new\", \"new\", \"news\", \"news\", \"news\", \"news\", \"news\", \"november\", \"november\", \"november\", \"november\", \"npcc\", \"npcc\", \"nw\", \"nw\", \"nw\", \"oil\", \"oil\", \"one\", \"one\", \"one\", \"one\", \"one\", \"original\", \"original\", \"original\", \"original\", \"original\", \"outage\", \"outage\", \"outage\", \"pager\", \"pager\", \"pampa\", \"pampa\", \"partnership\", \"partnership\", \"passion\", \"paypal\", \"paypal\", \"please\", \"please\", \"please\", \"please\", \"please\", \"pm\", \"pm\", \"pm\", \"pm\", \"pm\", \"pocketbook\", \"pocketbook\", \"power\", \"power\", \"power\", \"power\", \"power\", \"powersrc\", \"powersrc\", \"powersrc\", \"prc\", \"prc\", \"price\", \"price\", \"price\", \"price\", \"program\", \"program\", \"pt\", \"pt\", \"pt\", \"question\", \"question\", \"question\", \"question\", \"question\", \"range\", \"range\", \"range\", \"rc\", \"realtime\", \"realtime\", \"recipient\", \"recipient\", \"recipient\", \"rect\", \"rect\", \"redshirt\", \"reef\", \"reef\", \"ref\", \"ref\", \"refined\", \"reg\", \"reg\", \"reg\", \"reliantenergy\", \"reliantenergy\", \"reliantenergy\", \"repair\", \"repair\", \"request\", \"request\", \"request\", \"request\", \"request\", \"retirement\", \"retirement\", \"rfp\", \"rfp\", \"rfp\", \"rfp\", \"right\", \"right\", \"right\", \"right\", \"right\", \"rk\", \"rk\", \"royalty\", \"royalty\", \"said\", \"said\", \"said\", \"said\", \"sara\", \"sara\", \"sat\", \"sat\", \"sat\", \"savita\", \"savita\", \"savita\", \"say\", \"say\", \"say\", \"say\", \"say\", \"schedule\", \"schedule\", \"schedule\", \"schedule\", \"scheduled\", \"scheduled\", \"scheduled\", \"scheduled\", \"school\", \"school\", \"scoop\", \"scoop\", \"script\", \"script\", \"se\", \"se\", \"se\", \"se\", \"security\", \"security\", \"security\", \"see\", \"see\", \"see\", \"see\", \"see\", \"seller\", \"seller\", \"seller\", \"sept\", \"sept\", \"sept\", \"serc\", \"serc\", \"server\", \"server\", \"server\", \"service\", \"service\", \"service\", \"service\", \"service\", \"share\", \"share\", \"share\", \"sincerely\", \"sincerely\", \"skadden\", \"skadden\", \"sp\", \"sp\", \"spp\", \"spp\", \"spreadsheet\", \"spreadsheet\", \"src\", \"src\", \"src\", \"start\", \"start\", \"start\", \"start\", \"start\", \"state\", \"state\", \"state\", \"state\", \"std\", \"std\", \"stock\", \"stock\", \"stock\", \"stock\", \"stock\", \"stocklookup\", \"stocklookup\", \"store\", \"store\", \"sw\", \"sw\", \"syncrasy\", \"syncrasy\", \"t\", \"t\", \"tab\", \"tab\", \"table\", \"table\", \"table\", \"tagline\", \"tagline\", \"td\", \"td\", \"td\", \"team\", \"team\", \"team\", \"team\", \"temp\", \"temp\", \"thanks\", \"thanks\", \"thanks\", \"thanks\", \"thanks\", \"thru\", \"thru\", \"thru\", \"thursday\", \"thursday\", \"thursday\", \"thursday\", \"thursday\", \"time\", \"time\", \"time\", \"time\", \"time\", \"tonight\", \"tonight\", \"tonight\", \"tr\", \"tr\", \"tr\", \"two\", \"two\", \"two\", \"two\", \"u\", \"u\", \"u\", \"u\", \"u\", \"unable\", \"unable\", \"underhanded\", \"underhanded\", \"underscore\", \"underscore\", \"unify\", \"unify\", \"union\", \"union\", \"union\", \"use\", \"use\", \"use\", \"use\", \"use\", \"used\", \"used\", \"used\", \"validation\", \"validation\", \"valign\", \"valign\", \"vegetarian\", \"vegetarian\", \"veggie\", \"veggie\", \"vince\", \"vince\", \"vladimir\", \"vladimir\", \"volatility\", \"volatility\", \"volatility\", \"width\", \"width\", \"width\", \"wiped\", \"wiped\", \"wj\", \"wj\", \"worker\", \"worker\", \"would\", \"would\", \"would\", \"would\", \"would\", \"wrap\", \"wrap\", \"wrap\", \"wscc\", \"wscc\", \"wyndham\", \"wyndham\", \"year\", \"year\", \"year\", \"year\", \"yo\", \"yo\"]}, \"R\": 30, \"lambda.step\": 0.01, \"plot.opts\": {\"xlab\": \"PC1\", \"ylab\": \"PC2\"}, \"topic.order\": [1, 2, 3, 4, 5]};\n",
       "\n",
       "function LDAvis_load_lib(url, callback){\n",
       "  var s = document.createElement('script');\n",
       "  s.src = url;\n",
       "  s.async = true;\n",
       "  s.onreadystatechange = s.onload = callback;\n",
       "  s.onerror = function(){console.warn(\"failed to load library \" + url);};\n",
       "  document.getElementsByTagName(\"head\")[0].appendChild(s);\n",
       "}\n",
       "\n",
       "if(typeof(LDAvis) !== \"undefined\"){\n",
       "   // already loaded: just create the visualization\n",
       "   !function(LDAvis){\n",
       "       new LDAvis(\"#\" + \"ldavis_el55191405754810216006240961789\", ldavis_el55191405754810216006240961789_data);\n",
       "   }(LDAvis);\n",
       "}else if(typeof define === \"function\" && define.amd){\n",
       "   // require.js is available: use it to load d3/LDAvis\n",
       "   require.config({paths: {d3: \"https://d3js.org/d3.v5\"}});\n",
       "   require([\"d3\"], function(d3){\n",
       "      window.d3 = d3;\n",
       "      LDAvis_load_lib(\"https://cdn.jsdelivr.net/gh/bmabey/pyLDAvis@3.4.0/pyLDAvis/js/ldavis.v3.0.0.js\", function(){\n",
       "        new LDAvis(\"#\" + \"ldavis_el55191405754810216006240961789\", ldavis_el55191405754810216006240961789_data);\n",
       "      });\n",
       "    });\n",
       "}else{\n",
       "    // require.js not available: dynamically load d3 & LDAvis\n",
       "    LDAvis_load_lib(\"https://d3js.org/d3.v5.js\", function(){\n",
       "         LDAvis_load_lib(\"https://cdn.jsdelivr.net/gh/bmabey/pyLDAvis@3.4.0/pyLDAvis/js/ldavis.v3.0.0.js\", function(){\n",
       "                 new LDAvis(\"#\" + \"ldavis_el55191405754810216006240961789\", ldavis_el55191405754810216006240961789_data);\n",
       "            })\n",
       "         });\n",
       "}\n",
       "</script>"
      ],
      "text/plain": [
       "<IPython.core.display.HTML object>"
      ]
     },
     "execution_count": 22,
     "metadata": {},
     "output_type": "execute_result"
    }
   ],
   "source": [
    "pyLDAvis.display(lda_display)"
   ]
  },
  {
   "cell_type": "code",
   "execution_count": 17,
   "metadata": {},
   "outputs": [],
   "source": [
    "def get_topic_details(ldamodel, corpus):\n",
    "    topic_details_df = pd.DataFrame()\n",
    "    for i, row in enumerate(ldamodel[corpus]):\n",
    "        row = sorted(row, key=lambda x: (x[1]), reverse=True)\n",
    "        for j, (topic_num, prop_topic) in enumerate(row):\n",
    "            if j == 0:  # => dominant topic\n",
    "                wp = ldamodel.show_topic(topic_num)\n",
    "                topic_details_df = topic_details_df.append(pd.Series([topic_num, prop_topic]), ignore_index=True)\n",
    "    topic_details_df.columns = ['Dominant_Topic', '% Score']\n",
    "    return topic_details_df"
   ]
  },
  {
   "cell_type": "code",
   "execution_count": 18,
   "metadata": {},
   "outputs": [
    {
     "ename": "AttributeError",
     "evalue": "'DataFrame' object has no attribute 'append'",
     "output_type": "error",
     "traceback": [
      "\u001b[0;31m---------------------------------------------------------------------------\u001b[0m",
      "\u001b[0;31mAttributeError\u001b[0m                            Traceback (most recent call last)",
      "Cell \u001b[0;32mIn[18], line 2\u001b[0m\n\u001b[1;32m      1\u001b[0m \u001b[38;5;66;03m# Run get_topic_details function and check the results\u001b[39;00m\n\u001b[0;32m----> 2\u001b[0m topic_details_df \u001b[38;5;241m=\u001b[39m \u001b[43mget_topic_details\u001b[49m\u001b[43m(\u001b[49m\u001b[43mldamodel\u001b[49m\u001b[43m,\u001b[49m\u001b[43m \u001b[49m\u001b[43mcorpus\u001b[49m\u001b[43m)\u001b[49m\n",
      "Cell \u001b[0;32mIn[17], line 8\u001b[0m, in \u001b[0;36mget_topic_details\u001b[0;34m(ldamodel, corpus)\u001b[0m\n\u001b[1;32m      6\u001b[0m         \u001b[38;5;28;01mif\u001b[39;00m j \u001b[38;5;241m==\u001b[39m \u001b[38;5;241m0\u001b[39m:  \u001b[38;5;66;03m# => dominant topic\u001b[39;00m\n\u001b[1;32m      7\u001b[0m             wp \u001b[38;5;241m=\u001b[39m ldamodel\u001b[38;5;241m.\u001b[39mshow_topic(topic_num)\n\u001b[0;32m----> 8\u001b[0m             topic_details_df \u001b[38;5;241m=\u001b[39m \u001b[43mtopic_details_df\u001b[49m\u001b[38;5;241;43m.\u001b[39;49m\u001b[43mappend\u001b[49m(pd\u001b[38;5;241m.\u001b[39mSeries([topic_num, prop_topic]), ignore_index\u001b[38;5;241m=\u001b[39m\u001b[38;5;28;01mTrue\u001b[39;00m)\n\u001b[1;32m      9\u001b[0m topic_details_df\u001b[38;5;241m.\u001b[39mcolumns \u001b[38;5;241m=\u001b[39m [\u001b[38;5;124m'\u001b[39m\u001b[38;5;124mDominant_Topic\u001b[39m\u001b[38;5;124m'\u001b[39m, \u001b[38;5;124m'\u001b[39m\u001b[38;5;124m%\u001b[39m\u001b[38;5;124m Score\u001b[39m\u001b[38;5;124m'\u001b[39m]\n\u001b[1;32m     10\u001b[0m \u001b[38;5;28;01mreturn\u001b[39;00m topic_details_df\n",
      "File \u001b[0;32m~/anaconda3/lib/python3.10/site-packages/pandas/core/generic.py:5989\u001b[0m, in \u001b[0;36mNDFrame.__getattr__\u001b[0;34m(self, name)\u001b[0m\n\u001b[1;32m   5982\u001b[0m \u001b[38;5;28;01mif\u001b[39;00m (\n\u001b[1;32m   5983\u001b[0m     name \u001b[38;5;129;01mnot\u001b[39;00m \u001b[38;5;129;01min\u001b[39;00m \u001b[38;5;28mself\u001b[39m\u001b[38;5;241m.\u001b[39m_internal_names_set\n\u001b[1;32m   5984\u001b[0m     \u001b[38;5;129;01mand\u001b[39;00m name \u001b[38;5;129;01mnot\u001b[39;00m \u001b[38;5;129;01min\u001b[39;00m \u001b[38;5;28mself\u001b[39m\u001b[38;5;241m.\u001b[39m_metadata\n\u001b[1;32m   5985\u001b[0m     \u001b[38;5;129;01mand\u001b[39;00m name \u001b[38;5;129;01mnot\u001b[39;00m \u001b[38;5;129;01min\u001b[39;00m \u001b[38;5;28mself\u001b[39m\u001b[38;5;241m.\u001b[39m_accessors\n\u001b[1;32m   5986\u001b[0m     \u001b[38;5;129;01mand\u001b[39;00m \u001b[38;5;28mself\u001b[39m\u001b[38;5;241m.\u001b[39m_info_axis\u001b[38;5;241m.\u001b[39m_can_hold_identifiers_and_holds_name(name)\n\u001b[1;32m   5987\u001b[0m ):\n\u001b[1;32m   5988\u001b[0m     \u001b[38;5;28;01mreturn\u001b[39;00m \u001b[38;5;28mself\u001b[39m[name]\n\u001b[0;32m-> 5989\u001b[0m \u001b[38;5;28;01mreturn\u001b[39;00m \u001b[38;5;28;43mobject\u001b[39;49m\u001b[38;5;241;43m.\u001b[39;49m\u001b[38;5;21;43m__getattribute__\u001b[39;49m\u001b[43m(\u001b[49m\u001b[38;5;28;43mself\u001b[39;49m\u001b[43m,\u001b[49m\u001b[43m \u001b[49m\u001b[43mname\u001b[49m\u001b[43m)\u001b[49m\n",
      "\u001b[0;31mAttributeError\u001b[0m: 'DataFrame' object has no attribute 'append'"
     ]
    }
   ],
   "source": [
    "# Run get_topic_details function and check the results\n",
    "topic_details_df = get_topic_details(ldamodel, corpus)"
   ]
  },
  {
   "cell_type": "code",
   "execution_count": null,
   "metadata": {},
   "outputs": [],
   "source": [
    "topic_details_df.head()"
   ]
  },
  {
   "cell_type": "code",
   "execution_count": null,
   "metadata": {},
   "outputs": [],
   "source": [
    "topic_details_df.tail()"
   ]
  },
  {
   "cell_type": "code",
   "execution_count": null,
   "metadata": {},
   "outputs": [],
   "source": [
    "# Add original text to topic details in a dataframe\n",
    "contents = pd.DataFrame({'Original text': text_clean})\n",
    "topic_details = pd.concat([get_topic_details(ldamodel, corpus), contents], axis=1)"
   ]
  },
  {
   "cell_type": "code",
   "execution_count": null,
   "metadata": {},
   "outputs": [],
   "source": [
    "topic_details.sort_values(by=['% Score'], ascending=False).head(10).head()"
   ]
  },
  {
   "cell_type": "code",
   "execution_count": null,
   "metadata": {},
   "outputs": [],
   "source": [
    "topic_details.sort_values(by=['% Score'], ascending=False).head(10).tail()"
   ]
  },
  {
   "cell_type": "code",
   "execution_count": null,
   "metadata": {},
   "outputs": [],
   "source": [
    "# Create flag for text highest associated with topic 3\n",
    "topic_details['flag'] = np.where((topic_details['Dominant_Topic'] == 3.0), 1, 0)"
   ]
  },
  {
   "cell_type": "code",
   "execution_count": null,
   "metadata": {},
   "outputs": [],
   "source": [
    "topic_details_1 = topic_details[topic_details.flag == 1]"
   ]
  },
  {
   "cell_type": "code",
   "execution_count": null,
   "metadata": {},
   "outputs": [],
   "source": [
    "topic_details_1.sort_values(by=['% Score'], ascending=False).head(10)"
   ]
  }
 ],
 "metadata": {
  "kernelspec": {
   "display_name": "Python 3 (ipykernel)",
   "language": "python",
   "name": "python3"
  },
  "language_info": {
   "codemirror_mode": {
    "name": "ipython",
    "version": 3
   },
   "file_extension": ".py",
   "mimetype": "text/x-python",
   "name": "python",
   "nbconvert_exporter": "python",
   "pygments_lexer": "ipython3",
   "version": "3.10.9"
  },
  "toc-autonumbering": true
 },
 "nbformat": 4,
 "nbformat_minor": 4
}
